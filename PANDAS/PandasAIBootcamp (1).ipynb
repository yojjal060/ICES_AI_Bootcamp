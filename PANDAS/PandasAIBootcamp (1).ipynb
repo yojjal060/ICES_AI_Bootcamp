{
  "cells": [
    {
      "cell_type": "markdown",
      "metadata": {
        "id": "A18BEV26UFjW"
      },
      "source": [
        "# Table of Contents:\n",
        "# 1. Introduction to Pandas\n",
        "# 2. Creating Series and DataFrames\n",
        "# 3. Loading and Exploring Data\n",
        "# 4. Data Selection and Indexing\n",
        "# 5. Data Cleaning and Handling Missing Values\n",
        "# 6. Data Filtering and Querying\n",
        "# 7. Data Aggregation and Grouping\n",
        "# 8. Data Merging and Joining\n",
        "# 9. Pivot Tables and Reshaping\n",
        "# 10. Advanced Operations"
      ]
    },
    {
      "cell_type": "code",
      "execution_count": 3,
      "metadata": {
        "colab": {
          "base_uri": "https://localhost:8080/"
        },
        "id": "CSyO6snrTrX-",
        "outputId": "eb49a941-7520-4689-c0c6-dd085bec00a9"
      },
      "outputs": [
        {
          "name": "stdout",
          "output_type": "stream",
          "text": [
            "Pandas version: 2.2.3\n"
          ]
        }
      ],
      "source": [
        "import pandas as pd\n",
        "import numpy as np\n",
        "print(\"Pandas version:\", pd.__version__)"
      ]
    },
    {
      "cell_type": "markdown",
      "metadata": {
        "id": "y1QOi-9AT6_H"
      },
      "source": [
        "# ===========================================================\n",
        "# 1. INTRODUCTION TO PANDAS\n",
        "# ===========================================================\n",
        "\n",
        "\n",
        "Pandas is a powerful data manipulation and analysis library for Python.\n",
        "It provides two main data structures:\n",
        "- Series: 1-dimensional labeled array\n",
        "- DataFrame: 2-dimensional labeled data structure (like a spreadsheet)\n",
        "\n",
        "Key Features:\n",
        "- Easy handling of missing data\n",
        "- Data alignment and merging\n",
        "- Flexible reshaping and pivoting\n",
        "- Powerful grouping functionality\n",
        "- Time series functionality\n"
      ]
    },
    {
      "cell_type": "markdown",
      "metadata": {
        "id": "VpdrggwmUVWv"
      },
      "source": [
        "# =================================================================\n",
        "# 2. CREATING SERIES AND DATAFRAMES\n",
        "# ================================================================="
      ]
    },
    {
      "cell_type": "code",
      "execution_count": 4,
      "metadata": {
        "colab": {
          "base_uri": "https://localhost:8080/"
        },
        "id": "BTNcALDcUT_r",
        "outputId": "80f85686-c764-4ca3-a68c-43ff1e707604"
      },
      "outputs": [
        {
          "name": "stdout",
          "output_type": "stream",
          "text": [
            "============================================================\n",
            "2. CREATING SERIES AND DATAFRAMES\n",
            "============================================================\n",
            "\n",
            "2.1 Creating Series:\n",
            "------------------------------\n",
            "Series from list:\n",
            "0    25\n",
            "1    30\n",
            "2    35\n",
            "3    28\n",
            "4    45\n",
            "Name: Age, dtype: int64\n",
            "\n",
            "Series from dictionary:\n",
            "Yojjal    25\n",
            "Ram       30\n",
            "Shyam     35\n",
            "Hari      28\n",
            "dtype: int64\n",
            "\n",
            "Series shape: (5,)\n",
            "Series dtype: int64\n",
            "Series index: [0, 1, 2, 3, 4]\n",
            "Series values: [25 30 35 28 45]\n"
          ]
        }
      ],
      "source": [
        "print(\"=\"*60)\n",
        "print(\"2. CREATING SERIES AND DATAFRAMES\")\n",
        "print(\"=\"*60)\n",
        "\n",
        "# Creating a Series\n",
        "print(\"\\n2.1 Creating Series:\")\n",
        "print(\"-\" * 30)\n",
        "\n",
        "# From a list\n",
        "ages = pd.Series([25, 30, 35, 28, 45], name='Age')\n",
        "print(\"Series from list:\")\n",
        "print(ages)\n",
        "\n",
        "# From a dictionary\n",
        "person_ages = pd.Series({'Yojjal': 25, 'Ram': 30, 'Shyam': 35, 'Hari': 28})\n",
        "print(\"\\nSeries from dictionary:\")\n",
        "print(person_ages)\n",
        "\n",
        "# Series attributes\n",
        "print(f\"\\nSeries shape: {ages.shape}\")\n",
        "print(f\"Series dtype: {ages.dtype}\")\n",
        "print(f\"Series index: {ages.index.tolist()}\")\n",
        "print(f\"Series values: {ages.values}\")"
      ]
    },
    {
      "cell_type": "code",
      "execution_count": 5,
      "metadata": {
        "colab": {
          "base_uri": "https://localhost:8080/"
        },
        "id": "jxdtOvNeU-fb",
        "outputId": "bee52697-c832-4b23-850a-bb43c4a18cf4"
      },
      "outputs": [
        {
          "name": "stdout",
          "output_type": "stream",
          "text": [
            "\n",
            "2.2 Creating DataFrames:\n",
            "------------------------------\n",
            "DataFrame from dictionary:\n",
            "      Name  Age      City  Salary\n",
            "0    Alice   25  New York   50000\n",
            "1      Bob   30    London   60000\n",
            "2  Charlie   35     Paris   75000\n",
            "3    Diana   28     Tokyo   55000\n",
            "4      Eve   45    Sydney   80000\n",
            "\n",
            "DataFrame from lists:\n",
            "      Name  Age\n",
            "0    Alice   25\n",
            "1      Bob   30\n",
            "2  Charlie   35\n",
            "\n",
            "DataFrame shape: (5, 4)\n",
            "DataFrame columns: ['Name', 'Age', 'City', 'Salary']\n",
            "DataFrame index: [0, 1, 2, 3, 4]\n",
            "DataFrame dtypes:\n",
            "Name      object\n",
            "Age        int64\n",
            "City      object\n",
            "Salary     int64\n",
            "dtype: object\n"
          ]
        }
      ],
      "source": [
        "# Creating a DataFrame\n",
        "print(\"\\n2.2 Creating DataFrames:\")\n",
        "print(\"-\" * 30)\n",
        "\n",
        "# From a dictionary\n",
        "data_dict = {\n",
        "    'Name': ['Alice', 'Bob', 'Charlie', 'Diana', 'Eve'],\n",
        "    'Age': [25, 30, 35, 28, 45],\n",
        "    'City': ['New York', 'London', 'Paris', 'Tokyo', 'Sydney'],\n",
        "    'Salary': [50000, 60000, 75000, 55000, 80000]\n",
        "}\n",
        "\n",
        "df_sample = pd.DataFrame(data_dict)\n",
        "print(\"DataFrame from dictionary:\")\n",
        "print(df_sample)\n",
        "\n",
        "# From lists\n",
        "names = ['Alice', 'Bob', 'Charlie']\n",
        "ages = [25, 30, 35]\n",
        "df_from_lists = pd.DataFrame({'Name': names, 'Age': ages})\n",
        "print(\"\\nDataFrame from lists:\")\n",
        "print(df_from_lists)\n",
        "\n",
        "# DataFrame attributes\n",
        "print(f\"\\nDataFrame shape: {df_sample.shape}\")\n",
        "print(f\"DataFrame columns: {df_sample.columns.tolist()}\")\n",
        "print(f\"DataFrame index: {df_sample.index.tolist()}\")\n",
        "print(f\"DataFrame dtypes:\\n{df_sample.dtypes}\")"
      ]
    },
    {
      "cell_type": "markdown",
      "metadata": {
        "id": "pOf_hKUwWUay"
      },
      "source": [
        "# =======================================\n",
        "# 3. LOADING AND EXPLORING DATA\n",
        "# =======================================\n",
        "\n"
      ]
    },
    {
      "cell_type": "code",
      "execution_count": 8,
      "metadata": {
        "id": "KOWIFrlhXREL"
      },
      "outputs": [],
      "source": [
        "# Load the Titanic dataset\n",
        "Anime=pd.read_csv('Anime.csv')"
      ]
    },
    {
      "cell_type": "code",
      "execution_count": 9,
      "metadata": {
        "colab": {
          "base_uri": "https://localhost:8080/",
          "height": 947
        },
        "id": "dqvV_hSyX8Vz",
        "outputId": "185cbed4-9c47-4ff0-9d6f-3e73bace4ce7"
      },
      "outputs": [
        {
          "data": {
            "text/html": [
              "<div>\n",
              "<style scoped>\n",
              "    .dataframe tbody tr th:only-of-type {\n",
              "        vertical-align: middle;\n",
              "    }\n",
              "\n",
              "    .dataframe tbody tr th {\n",
              "        vertical-align: top;\n",
              "    }\n",
              "\n",
              "    .dataframe thead th {\n",
              "        text-align: right;\n",
              "    }\n",
              "</style>\n",
              "<table border=\"1\" class=\"dataframe\">\n",
              "  <thead>\n",
              "    <tr style=\"text-align: right;\">\n",
              "      <th></th>\n",
              "      <th>Rank</th>\n",
              "      <th>Name</th>\n",
              "      <th>Japanese_name</th>\n",
              "      <th>Type</th>\n",
              "      <th>Episodes</th>\n",
              "      <th>Studio</th>\n",
              "      <th>Release_season</th>\n",
              "      <th>Tags</th>\n",
              "      <th>Rating</th>\n",
              "      <th>Release_year</th>\n",
              "      <th>End_year</th>\n",
              "      <th>Description</th>\n",
              "      <th>Content_Warning</th>\n",
              "      <th>Related_Mange</th>\n",
              "      <th>Related_anime</th>\n",
              "      <th>Voice_actors</th>\n",
              "      <th>staff</th>\n",
              "    </tr>\n",
              "  </thead>\n",
              "  <tbody>\n",
              "    <tr>\n",
              "      <th>0</th>\n",
              "      <td>1</td>\n",
              "      <td>Demon Slayer: Kimetsu no Yaiba - Entertainment...</td>\n",
              "      <td>Kimetsu no Yaiba: Yuukaku-hen</td>\n",
              "      <td>TV</td>\n",
              "      <td>NaN</td>\n",
              "      <td>ufotable</td>\n",
              "      <td>Fall</td>\n",
              "      <td>Action, Adventure, Fantasy, Shounen, Demons, H...</td>\n",
              "      <td>4.60</td>\n",
              "      <td>2021.0</td>\n",
              "      <td>NaN</td>\n",
              "      <td>'Tanjiro and his friends accompany the Hashira...</td>\n",
              "      <td>Explicit Violence</td>\n",
              "      <td>Demon Slayer: Kimetsu no Yaiba</td>\n",
              "      <td>Demon Slayer: Kimetsu no Yaiba, Demon Slayer: ...</td>\n",
              "      <td>Inosuke Hashibira : Yoshitsugu Matsuoka, Nezuk...</td>\n",
              "      <td>Koyoharu Gotouge : Original Creator, Haruo Sot...</td>\n",
              "    </tr>\n",
              "    <tr>\n",
              "      <th>1</th>\n",
              "      <td>2</td>\n",
              "      <td>Fruits Basket the Final Season</td>\n",
              "      <td>Fruits Basket the Final</td>\n",
              "      <td>TV</td>\n",
              "      <td>13.0</td>\n",
              "      <td>TMS Entertainment</td>\n",
              "      <td>Spring</td>\n",
              "      <td>Drama, Fantasy, Romance, Shoujo, Animal Transf...</td>\n",
              "      <td>4.60</td>\n",
              "      <td>2021.0</td>\n",
              "      <td>NaN</td>\n",
              "      <td>'The final arc of Fruits Basket.'</td>\n",
              "      <td>Emotional Abuse,, Mature Themes,, Physical Abu...</td>\n",
              "      <td>Fruits Basket, Fruits Basket Another</td>\n",
              "      <td>Fruits Basket 1st Season, Fruits Basket 2nd Se...</td>\n",
              "      <td>Akito Sohma : Maaya Sakamoto, Kyo Sohma : Yuum...</td>\n",
              "      <td>Natsuki Takaya : Original Creator, Yoshihide I...</td>\n",
              "    </tr>\n",
              "    <tr>\n",
              "      <th>2</th>\n",
              "      <td>3</td>\n",
              "      <td>Mo Dao Zu Shi 3</td>\n",
              "      <td>The Founder of Diabolism 3</td>\n",
              "      <td>Web</td>\n",
              "      <td>12.0</td>\n",
              "      <td>B.C MAY PICTURES</td>\n",
              "      <td>NaN</td>\n",
              "      <td>Fantasy, Ancient China, Chinese Animation, Cul...</td>\n",
              "      <td>4.58</td>\n",
              "      <td>2021.0</td>\n",
              "      <td>NaN</td>\n",
              "      <td>'The third season of Mo Dao Zu Shi.'</td>\n",
              "      <td>NaN</td>\n",
              "      <td>Grandmaster of Demonic Cultivation: Mo Dao Zu ...</td>\n",
              "      <td>Mo Dao Zu Shi 2, Mo Dao Zu Shi Q</td>\n",
              "      <td>Lan Wangji, Wei Wuxian, Jiang Cheng, Jin Guang...</td>\n",
              "      <td>Mo Xiang Tong Xiu : Original Creator, Xiong Ke...</td>\n",
              "    </tr>\n",
              "    <tr>\n",
              "      <th>3</th>\n",
              "      <td>4</td>\n",
              "      <td>Fullmetal Alchemist: Brotherhood</td>\n",
              "      <td>Hagane no Renkinjutsushi: Full Metal Alchemist</td>\n",
              "      <td>TV</td>\n",
              "      <td>64.0</td>\n",
              "      <td>Bones</td>\n",
              "      <td>Spring</td>\n",
              "      <td>Action, Adventure, Drama, Fantasy, Mystery, Sh...</td>\n",
              "      <td>4.58</td>\n",
              "      <td>2009.0</td>\n",
              "      <td>2010.0</td>\n",
              "      <td>\"The foundation of alchemy is based on the law...</td>\n",
              "      <td>Animal Abuse,, Mature Themes,, Violence,, Dome...</td>\n",
              "      <td>Fullmetal Alchemist, Fullmetal Alchemist (Ligh...</td>\n",
              "      <td>Fullmetal Alchemist: Brotherhood Specials, Ful...</td>\n",
              "      <td>Alphonse Elric : Rie Kugimiya, Edward Elric : ...</td>\n",
              "      <td>Hiromu Arakawa : Original Creator, Yasuhiro Ir...</td>\n",
              "    </tr>\n",
              "    <tr>\n",
              "      <th>4</th>\n",
              "      <td>5</td>\n",
              "      <td>Attack on Titan 3rd Season: Part II</td>\n",
              "      <td>Shingeki no Kyojin Season 3: Part II</td>\n",
              "      <td>TV</td>\n",
              "      <td>10.0</td>\n",
              "      <td>WIT Studio</td>\n",
              "      <td>Spring</td>\n",
              "      <td>Action, Fantasy, Horror, Shounen, Dark Fantasy...</td>\n",
              "      <td>4.57</td>\n",
              "      <td>2019.0</td>\n",
              "      <td>NaN</td>\n",
              "      <td>'The battle to retake Wall Maria begins now! W...</td>\n",
              "      <td>Cannibalism,, Explicit Violence</td>\n",
              "      <td>Attack on Titan, Attack on Titan: End of the W...</td>\n",
              "      <td>Attack on Titan, Attack on Titan 2nd Season, A...</td>\n",
              "      <td>Armin Arlelt : Marina Inoue, Eren Jaeger : Yuu...</td>\n",
              "      <td>Hajime Isayama : Original Creator, Tetsurou Ar...</td>\n",
              "    </tr>\n",
              "    <tr>\n",
              "      <th>...</th>\n",
              "      <td>...</td>\n",
              "      <td>...</td>\n",
              "      <td>...</td>\n",
              "      <td>...</td>\n",
              "      <td>...</td>\n",
              "      <td>...</td>\n",
              "      <td>...</td>\n",
              "      <td>...</td>\n",
              "      <td>...</td>\n",
              "      <td>...</td>\n",
              "      <td>...</td>\n",
              "      <td>...</td>\n",
              "      <td>...</td>\n",
              "      <td>...</td>\n",
              "      <td>...</td>\n",
              "      <td>...</td>\n",
              "      <td>...</td>\n",
              "    </tr>\n",
              "    <tr>\n",
              "      <th>18490</th>\n",
              "      <td>18491</td>\n",
              "      <td>Qin Shi Mingyue: Canghai Hengliu Xiaomeng Spec...</td>\n",
              "      <td>NaN</td>\n",
              "      <td>Web</td>\n",
              "      <td>2.0</td>\n",
              "      <td>Sparkly Key Animation Studio</td>\n",
              "      <td>NaN</td>\n",
              "      <td>Action, Ancient China, Chinese Animation, Hist...</td>\n",
              "      <td>NaN</td>\n",
              "      <td>2020.0</td>\n",
              "      <td>NaN</td>\n",
              "      <td>Special episodes of Qin Shi Mingyue: Canghai H...</td>\n",
              "      <td>NaN</td>\n",
              "      <td>NaN</td>\n",
              "      <td>Qin Shi Mingyue: Canghai Hengliu</td>\n",
              "      <td>NaN</td>\n",
              "      <td>NaN</td>\n",
              "    </tr>\n",
              "    <tr>\n",
              "      <th>18491</th>\n",
              "      <td>18492</td>\n",
              "      <td>Yi Tang Juchang: Sanguo Yanyi</td>\n",
              "      <td>NaN</td>\n",
              "      <td>TV</td>\n",
              "      <td>108.0</td>\n",
              "      <td>NaN</td>\n",
              "      <td>NaN</td>\n",
              "      <td>Chinese Animation</td>\n",
              "      <td>NaN</td>\n",
              "      <td>2010.0</td>\n",
              "      <td>NaN</td>\n",
              "      <td>No synopsis yet - check back soon!</td>\n",
              "      <td>NaN</td>\n",
              "      <td>NaN</td>\n",
              "      <td>NaN</td>\n",
              "      <td>NaN</td>\n",
              "      <td>NaN</td>\n",
              "    </tr>\n",
              "    <tr>\n",
              "      <th>18492</th>\n",
              "      <td>18493</td>\n",
              "      <td>Fenghuang Ji Xiang Yu Qingming Shanghe Tu</td>\n",
              "      <td>NaN</td>\n",
              "      <td>TV</td>\n",
              "      <td>13.0</td>\n",
              "      <td>NaN</td>\n",
              "      <td>NaN</td>\n",
              "      <td>Chinese Animation, Family Friendly, Short Epis...</td>\n",
              "      <td>NaN</td>\n",
              "      <td>2020.0</td>\n",
              "      <td>NaN</td>\n",
              "      <td>No synopsis yet - check back soon!</td>\n",
              "      <td>NaN</td>\n",
              "      <td>NaN</td>\n",
              "      <td>NaN</td>\n",
              "      <td>NaN</td>\n",
              "      <td>NaN</td>\n",
              "    </tr>\n",
              "    <tr>\n",
              "      <th>18493</th>\n",
              "      <td>18494</td>\n",
              "      <td>Chengshi Jiyi Wo Men de Jieri</td>\n",
              "      <td>NaN</td>\n",
              "      <td>TV</td>\n",
              "      <td>NaN</td>\n",
              "      <td>NaN</td>\n",
              "      <td>NaN</td>\n",
              "      <td>Chinese Animation, Family Friendly, Short Epis...</td>\n",
              "      <td>NaN</td>\n",
              "      <td>2020.0</td>\n",
              "      <td>NaN</td>\n",
              "      <td>No synopsis yet - check back soon!</td>\n",
              "      <td>NaN</td>\n",
              "      <td>NaN</td>\n",
              "      <td>NaN</td>\n",
              "      <td>NaN</td>\n",
              "      <td>NaN</td>\n",
              "    </tr>\n",
              "    <tr>\n",
              "      <th>18494</th>\n",
              "      <td>18495</td>\n",
              "      <td>Heisei Inu Monogatari Bow: Genshi Inu Monogata...</td>\n",
              "      <td>NaN</td>\n",
              "      <td>Movie</td>\n",
              "      <td>NaN</td>\n",
              "      <td>Nippon Animation</td>\n",
              "      <td>NaN</td>\n",
              "      <td>Comedy, Slice of Life, Dogs</td>\n",
              "      <td>NaN</td>\n",
              "      <td>1994.0</td>\n",
              "      <td>NaN</td>\n",
              "      <td>No synopsis yet - check back soon!</td>\n",
              "      <td>NaN</td>\n",
              "      <td>NaN</td>\n",
              "      <td>Heisei Inu Monogatari Bow</td>\n",
              "      <td>NaN</td>\n",
              "      <td>NaN</td>\n",
              "    </tr>\n",
              "  </tbody>\n",
              "</table>\n",
              "<p>18495 rows × 17 columns</p>\n",
              "</div>"
            ],
            "text/plain": [
              "        Rank                                               Name  \\\n",
              "0          1  Demon Slayer: Kimetsu no Yaiba - Entertainment...   \n",
              "1          2                     Fruits Basket the Final Season   \n",
              "2          3                                    Mo Dao Zu Shi 3   \n",
              "3          4                   Fullmetal Alchemist: Brotherhood   \n",
              "4          5                Attack on Titan 3rd Season: Part II   \n",
              "...      ...                                                ...   \n",
              "18490  18491  Qin Shi Mingyue: Canghai Hengliu Xiaomeng Spec...   \n",
              "18491  18492                      Yi Tang Juchang: Sanguo Yanyi   \n",
              "18492  18493          Fenghuang Ji Xiang Yu Qingming Shanghe Tu   \n",
              "18493  18494                      Chengshi Jiyi Wo Men de Jieri   \n",
              "18494  18495  Heisei Inu Monogatari Bow: Genshi Inu Monogata...   \n",
              "\n",
              "                                         Japanese_name   Type  Episodes  \\\n",
              "0                        Kimetsu no Yaiba: Yuukaku-hen  TV          NaN   \n",
              "1                              Fruits Basket the Final  TV         13.0   \n",
              "2                           The Founder of Diabolism 3  Web        12.0   \n",
              "3       Hagane no Renkinjutsushi: Full Metal Alchemist  TV         64.0   \n",
              "4                 Shingeki no Kyojin Season 3: Part II  TV         10.0   \n",
              "...                                                ...    ...       ...   \n",
              "18490                                              NaN  Web         2.0   \n",
              "18491                                              NaN  TV        108.0   \n",
              "18492                                              NaN  TV         13.0   \n",
              "18493                                              NaN  TV          NaN   \n",
              "18494                                              NaN  Movie       NaN   \n",
              "\n",
              "                             Studio Release_season  \\\n",
              "0                          ufotable          Fall    \n",
              "1                 TMS Entertainment         Spring   \n",
              "2                  B.C MAY PICTURES            NaN   \n",
              "3                             Bones         Spring   \n",
              "4                        WIT Studio         Spring   \n",
              "...                             ...            ...   \n",
              "18490  Sparkly Key Animation Studio            NaN   \n",
              "18491                           NaN            NaN   \n",
              "18492                           NaN            NaN   \n",
              "18493                           NaN            NaN   \n",
              "18494              Nippon Animation            NaN   \n",
              "\n",
              "                                                    Tags  Rating  \\\n",
              "0      Action, Adventure, Fantasy, Shounen, Demons, H...    4.60   \n",
              "1      Drama, Fantasy, Romance, Shoujo, Animal Transf...    4.60   \n",
              "2      Fantasy, Ancient China, Chinese Animation, Cul...    4.58   \n",
              "3      Action, Adventure, Drama, Fantasy, Mystery, Sh...    4.58   \n",
              "4      Action, Fantasy, Horror, Shounen, Dark Fantasy...    4.57   \n",
              "...                                                  ...     ...   \n",
              "18490  Action, Ancient China, Chinese Animation, Hist...     NaN   \n",
              "18491                                  Chinese Animation     NaN   \n",
              "18492  Chinese Animation, Family Friendly, Short Epis...     NaN   \n",
              "18493  Chinese Animation, Family Friendly, Short Epis...     NaN   \n",
              "18494                        Comedy, Slice of Life, Dogs     NaN   \n",
              "\n",
              "       Release_year  End_year  \\\n",
              "0            2021.0       NaN   \n",
              "1            2021.0       NaN   \n",
              "2            2021.0       NaN   \n",
              "3            2009.0    2010.0   \n",
              "4            2019.0       NaN   \n",
              "...             ...       ...   \n",
              "18490        2020.0       NaN   \n",
              "18491        2010.0       NaN   \n",
              "18492        2020.0       NaN   \n",
              "18493        2020.0       NaN   \n",
              "18494        1994.0       NaN   \n",
              "\n",
              "                                             Description  \\\n",
              "0      'Tanjiro and his friends accompany the Hashira...   \n",
              "1                      'The final arc of Fruits Basket.'   \n",
              "2                   'The third season of Mo Dao Zu Shi.'   \n",
              "3      \"The foundation of alchemy is based on the law...   \n",
              "4      'The battle to retake Wall Maria begins now! W...   \n",
              "...                                                  ...   \n",
              "18490  Special episodes of Qin Shi Mingyue: Canghai H...   \n",
              "18491                 No synopsis yet - check back soon!   \n",
              "18492                 No synopsis yet - check back soon!   \n",
              "18493                 No synopsis yet - check back soon!   \n",
              "18494                 No synopsis yet - check back soon!   \n",
              "\n",
              "                                         Content_Warning  \\\n",
              "0                                      Explicit Violence   \n",
              "1      Emotional Abuse,, Mature Themes,, Physical Abu...   \n",
              "2                                                    NaN   \n",
              "3      Animal Abuse,, Mature Themes,, Violence,, Dome...   \n",
              "4                        Cannibalism,, Explicit Violence   \n",
              "...                                                  ...   \n",
              "18490                                                NaN   \n",
              "18491                                                NaN   \n",
              "18492                                                NaN   \n",
              "18493                                                NaN   \n",
              "18494                                                NaN   \n",
              "\n",
              "                                           Related_Mange  \\\n",
              "0                         Demon Slayer: Kimetsu no Yaiba   \n",
              "1                   Fruits Basket, Fruits Basket Another   \n",
              "2      Grandmaster of Demonic Cultivation: Mo Dao Zu ...   \n",
              "3      Fullmetal Alchemist, Fullmetal Alchemist (Ligh...   \n",
              "4      Attack on Titan, Attack on Titan: End of the W...   \n",
              "...                                                  ...   \n",
              "18490                                                NaN   \n",
              "18491                                                NaN   \n",
              "18492                                                NaN   \n",
              "18493                                                NaN   \n",
              "18494                                                NaN   \n",
              "\n",
              "                                           Related_anime  \\\n",
              "0      Demon Slayer: Kimetsu no Yaiba, Demon Slayer: ...   \n",
              "1      Fruits Basket 1st Season, Fruits Basket 2nd Se...   \n",
              "2                       Mo Dao Zu Shi 2, Mo Dao Zu Shi Q   \n",
              "3      Fullmetal Alchemist: Brotherhood Specials, Ful...   \n",
              "4      Attack on Titan, Attack on Titan 2nd Season, A...   \n",
              "...                                                  ...   \n",
              "18490                   Qin Shi Mingyue: Canghai Hengliu   \n",
              "18491                                                NaN   \n",
              "18492                                                NaN   \n",
              "18493                                                NaN   \n",
              "18494                          Heisei Inu Monogatari Bow   \n",
              "\n",
              "                                            Voice_actors  \\\n",
              "0      Inosuke Hashibira : Yoshitsugu Matsuoka, Nezuk...   \n",
              "1      Akito Sohma : Maaya Sakamoto, Kyo Sohma : Yuum...   \n",
              "2      Lan Wangji, Wei Wuxian, Jiang Cheng, Jin Guang...   \n",
              "3      Alphonse Elric : Rie Kugimiya, Edward Elric : ...   \n",
              "4      Armin Arlelt : Marina Inoue, Eren Jaeger : Yuu...   \n",
              "...                                                  ...   \n",
              "18490                                                NaN   \n",
              "18491                                                NaN   \n",
              "18492                                                NaN   \n",
              "18493                                                NaN   \n",
              "18494                                                NaN   \n",
              "\n",
              "                                                   staff  \n",
              "0      Koyoharu Gotouge : Original Creator, Haruo Sot...  \n",
              "1      Natsuki Takaya : Original Creator, Yoshihide I...  \n",
              "2      Mo Xiang Tong Xiu : Original Creator, Xiong Ke...  \n",
              "3      Hiromu Arakawa : Original Creator, Yasuhiro Ir...  \n",
              "4      Hajime Isayama : Original Creator, Tetsurou Ar...  \n",
              "...                                                  ...  \n",
              "18490                                                NaN  \n",
              "18491                                                NaN  \n",
              "18492                                                NaN  \n",
              "18493                                                NaN  \n",
              "18494                                                NaN  \n",
              "\n",
              "[18495 rows x 17 columns]"
            ]
          },
          "execution_count": 9,
          "metadata": {},
          "output_type": "execute_result"
        }
      ],
      "source": [
        "Anime"
      ]
    },
    {
      "cell_type": "code",
      "execution_count": 10,
      "metadata": {
        "colab": {
          "base_uri": "https://localhost:8080/"
        },
        "id": "DungVOmuXtUL",
        "outputId": "8a88c455-0af7-41a0-bcb2-09263b28c3d5"
      },
      "outputs": [
        {
          "name": "stdout",
          "output_type": "stream",
          "text": [
            "Dataset shape: (18495, 17)\n",
            "Number of rows: 18495\n",
            "Number of columns: 17\n"
          ]
        }
      ],
      "source": [
        "# Basic information about the dataset\n",
        "print(f\"Dataset shape: {Anime.shape}\")\n",
        "print(f\"Number of rows: {len(Anime)}\")\n",
        "print(f\"Number of columns: {len(Anime.columns)}\")"
      ]
    },
    {
      "cell_type": "code",
      "execution_count": 11,
      "metadata": {
        "colab": {
          "base_uri": "https://localhost:8080/",
          "height": 538
        },
        "id": "Fz6ngc1aXw3j",
        "outputId": "8247c255-c825-4870-ff23-862c0e8c547e"
      },
      "outputs": [
        {
          "name": "stdout",
          "output_type": "stream",
          "text": [
            "\n",
            "First 5 rows:\n"
          ]
        },
        {
          "data": {
            "text/html": [
              "<div>\n",
              "<style scoped>\n",
              "    .dataframe tbody tr th:only-of-type {\n",
              "        vertical-align: middle;\n",
              "    }\n",
              "\n",
              "    .dataframe tbody tr th {\n",
              "        vertical-align: top;\n",
              "    }\n",
              "\n",
              "    .dataframe thead th {\n",
              "        text-align: right;\n",
              "    }\n",
              "</style>\n",
              "<table border=\"1\" class=\"dataframe\">\n",
              "  <thead>\n",
              "    <tr style=\"text-align: right;\">\n",
              "      <th></th>\n",
              "      <th>Rank</th>\n",
              "      <th>Name</th>\n",
              "      <th>Japanese_name</th>\n",
              "      <th>Type</th>\n",
              "      <th>Episodes</th>\n",
              "      <th>Studio</th>\n",
              "      <th>Release_season</th>\n",
              "      <th>Tags</th>\n",
              "      <th>Rating</th>\n",
              "      <th>Release_year</th>\n",
              "      <th>End_year</th>\n",
              "      <th>Description</th>\n",
              "      <th>Content_Warning</th>\n",
              "      <th>Related_Mange</th>\n",
              "      <th>Related_anime</th>\n",
              "      <th>Voice_actors</th>\n",
              "      <th>staff</th>\n",
              "    </tr>\n",
              "  </thead>\n",
              "  <tbody>\n",
              "    <tr>\n",
              "      <th>0</th>\n",
              "      <td>1</td>\n",
              "      <td>Demon Slayer: Kimetsu no Yaiba - Entertainment...</td>\n",
              "      <td>Kimetsu no Yaiba: Yuukaku-hen</td>\n",
              "      <td>TV</td>\n",
              "      <td>NaN</td>\n",
              "      <td>ufotable</td>\n",
              "      <td>Fall</td>\n",
              "      <td>Action, Adventure, Fantasy, Shounen, Demons, H...</td>\n",
              "      <td>4.60</td>\n",
              "      <td>2021.0</td>\n",
              "      <td>NaN</td>\n",
              "      <td>'Tanjiro and his friends accompany the Hashira...</td>\n",
              "      <td>Explicit Violence</td>\n",
              "      <td>Demon Slayer: Kimetsu no Yaiba</td>\n",
              "      <td>Demon Slayer: Kimetsu no Yaiba, Demon Slayer: ...</td>\n",
              "      <td>Inosuke Hashibira : Yoshitsugu Matsuoka, Nezuk...</td>\n",
              "      <td>Koyoharu Gotouge : Original Creator, Haruo Sot...</td>\n",
              "    </tr>\n",
              "    <tr>\n",
              "      <th>1</th>\n",
              "      <td>2</td>\n",
              "      <td>Fruits Basket the Final Season</td>\n",
              "      <td>Fruits Basket the Final</td>\n",
              "      <td>TV</td>\n",
              "      <td>13.0</td>\n",
              "      <td>TMS Entertainment</td>\n",
              "      <td>Spring</td>\n",
              "      <td>Drama, Fantasy, Romance, Shoujo, Animal Transf...</td>\n",
              "      <td>4.60</td>\n",
              "      <td>2021.0</td>\n",
              "      <td>NaN</td>\n",
              "      <td>'The final arc of Fruits Basket.'</td>\n",
              "      <td>Emotional Abuse,, Mature Themes,, Physical Abu...</td>\n",
              "      <td>Fruits Basket, Fruits Basket Another</td>\n",
              "      <td>Fruits Basket 1st Season, Fruits Basket 2nd Se...</td>\n",
              "      <td>Akito Sohma : Maaya Sakamoto, Kyo Sohma : Yuum...</td>\n",
              "      <td>Natsuki Takaya : Original Creator, Yoshihide I...</td>\n",
              "    </tr>\n",
              "    <tr>\n",
              "      <th>2</th>\n",
              "      <td>3</td>\n",
              "      <td>Mo Dao Zu Shi 3</td>\n",
              "      <td>The Founder of Diabolism 3</td>\n",
              "      <td>Web</td>\n",
              "      <td>12.0</td>\n",
              "      <td>B.C MAY PICTURES</td>\n",
              "      <td>NaN</td>\n",
              "      <td>Fantasy, Ancient China, Chinese Animation, Cul...</td>\n",
              "      <td>4.58</td>\n",
              "      <td>2021.0</td>\n",
              "      <td>NaN</td>\n",
              "      <td>'The third season of Mo Dao Zu Shi.'</td>\n",
              "      <td>NaN</td>\n",
              "      <td>Grandmaster of Demonic Cultivation: Mo Dao Zu ...</td>\n",
              "      <td>Mo Dao Zu Shi 2, Mo Dao Zu Shi Q</td>\n",
              "      <td>Lan Wangji, Wei Wuxian, Jiang Cheng, Jin Guang...</td>\n",
              "      <td>Mo Xiang Tong Xiu : Original Creator, Xiong Ke...</td>\n",
              "    </tr>\n",
              "    <tr>\n",
              "      <th>3</th>\n",
              "      <td>4</td>\n",
              "      <td>Fullmetal Alchemist: Brotherhood</td>\n",
              "      <td>Hagane no Renkinjutsushi: Full Metal Alchemist</td>\n",
              "      <td>TV</td>\n",
              "      <td>64.0</td>\n",
              "      <td>Bones</td>\n",
              "      <td>Spring</td>\n",
              "      <td>Action, Adventure, Drama, Fantasy, Mystery, Sh...</td>\n",
              "      <td>4.58</td>\n",
              "      <td>2009.0</td>\n",
              "      <td>2010.0</td>\n",
              "      <td>\"The foundation of alchemy is based on the law...</td>\n",
              "      <td>Animal Abuse,, Mature Themes,, Violence,, Dome...</td>\n",
              "      <td>Fullmetal Alchemist, Fullmetal Alchemist (Ligh...</td>\n",
              "      <td>Fullmetal Alchemist: Brotherhood Specials, Ful...</td>\n",
              "      <td>Alphonse Elric : Rie Kugimiya, Edward Elric : ...</td>\n",
              "      <td>Hiromu Arakawa : Original Creator, Yasuhiro Ir...</td>\n",
              "    </tr>\n",
              "    <tr>\n",
              "      <th>4</th>\n",
              "      <td>5</td>\n",
              "      <td>Attack on Titan 3rd Season: Part II</td>\n",
              "      <td>Shingeki no Kyojin Season 3: Part II</td>\n",
              "      <td>TV</td>\n",
              "      <td>10.0</td>\n",
              "      <td>WIT Studio</td>\n",
              "      <td>Spring</td>\n",
              "      <td>Action, Fantasy, Horror, Shounen, Dark Fantasy...</td>\n",
              "      <td>4.57</td>\n",
              "      <td>2019.0</td>\n",
              "      <td>NaN</td>\n",
              "      <td>'The battle to retake Wall Maria begins now! W...</td>\n",
              "      <td>Cannibalism,, Explicit Violence</td>\n",
              "      <td>Attack on Titan, Attack on Titan: End of the W...</td>\n",
              "      <td>Attack on Titan, Attack on Titan 2nd Season, A...</td>\n",
              "      <td>Armin Arlelt : Marina Inoue, Eren Jaeger : Yuu...</td>\n",
              "      <td>Hajime Isayama : Original Creator, Tetsurou Ar...</td>\n",
              "    </tr>\n",
              "  </tbody>\n",
              "</table>\n",
              "</div>"
            ],
            "text/plain": [
              "   Rank                                               Name  \\\n",
              "0     1  Demon Slayer: Kimetsu no Yaiba - Entertainment...   \n",
              "1     2                     Fruits Basket the Final Season   \n",
              "2     3                                    Mo Dao Zu Shi 3   \n",
              "3     4                   Fullmetal Alchemist: Brotherhood   \n",
              "4     5                Attack on Titan 3rd Season: Part II   \n",
              "\n",
              "                                     Japanese_name   Type  Episodes  \\\n",
              "0                    Kimetsu no Yaiba: Yuukaku-hen  TV          NaN   \n",
              "1                          Fruits Basket the Final  TV         13.0   \n",
              "2                       The Founder of Diabolism 3  Web        12.0   \n",
              "3   Hagane no Renkinjutsushi: Full Metal Alchemist  TV         64.0   \n",
              "4             Shingeki no Kyojin Season 3: Part II  TV         10.0   \n",
              "\n",
              "              Studio Release_season  \\\n",
              "0           ufotable          Fall    \n",
              "1  TMS Entertainment         Spring   \n",
              "2   B.C MAY PICTURES            NaN   \n",
              "3              Bones         Spring   \n",
              "4         WIT Studio         Spring   \n",
              "\n",
              "                                                Tags  Rating  Release_year  \\\n",
              "0  Action, Adventure, Fantasy, Shounen, Demons, H...    4.60        2021.0   \n",
              "1  Drama, Fantasy, Romance, Shoujo, Animal Transf...    4.60        2021.0   \n",
              "2  Fantasy, Ancient China, Chinese Animation, Cul...    4.58        2021.0   \n",
              "3  Action, Adventure, Drama, Fantasy, Mystery, Sh...    4.58        2009.0   \n",
              "4  Action, Fantasy, Horror, Shounen, Dark Fantasy...    4.57        2019.0   \n",
              "\n",
              "   End_year                                        Description  \\\n",
              "0       NaN  'Tanjiro and his friends accompany the Hashira...   \n",
              "1       NaN                  'The final arc of Fruits Basket.'   \n",
              "2       NaN               'The third season of Mo Dao Zu Shi.'   \n",
              "3    2010.0  \"The foundation of alchemy is based on the law...   \n",
              "4       NaN  'The battle to retake Wall Maria begins now! W...   \n",
              "\n",
              "                                     Content_Warning  \\\n",
              "0                                  Explicit Violence   \n",
              "1  Emotional Abuse,, Mature Themes,, Physical Abu...   \n",
              "2                                                NaN   \n",
              "3  Animal Abuse,, Mature Themes,, Violence,, Dome...   \n",
              "4                    Cannibalism,, Explicit Violence   \n",
              "\n",
              "                                       Related_Mange  \\\n",
              "0                     Demon Slayer: Kimetsu no Yaiba   \n",
              "1               Fruits Basket, Fruits Basket Another   \n",
              "2  Grandmaster of Demonic Cultivation: Mo Dao Zu ...   \n",
              "3  Fullmetal Alchemist, Fullmetal Alchemist (Ligh...   \n",
              "4  Attack on Titan, Attack on Titan: End of the W...   \n",
              "\n",
              "                                       Related_anime  \\\n",
              "0  Demon Slayer: Kimetsu no Yaiba, Demon Slayer: ...   \n",
              "1  Fruits Basket 1st Season, Fruits Basket 2nd Se...   \n",
              "2                   Mo Dao Zu Shi 2, Mo Dao Zu Shi Q   \n",
              "3  Fullmetal Alchemist: Brotherhood Specials, Ful...   \n",
              "4  Attack on Titan, Attack on Titan 2nd Season, A...   \n",
              "\n",
              "                                        Voice_actors  \\\n",
              "0  Inosuke Hashibira : Yoshitsugu Matsuoka, Nezuk...   \n",
              "1  Akito Sohma : Maaya Sakamoto, Kyo Sohma : Yuum...   \n",
              "2  Lan Wangji, Wei Wuxian, Jiang Cheng, Jin Guang...   \n",
              "3  Alphonse Elric : Rie Kugimiya, Edward Elric : ...   \n",
              "4  Armin Arlelt : Marina Inoue, Eren Jaeger : Yuu...   \n",
              "\n",
              "                                               staff  \n",
              "0  Koyoharu Gotouge : Original Creator, Haruo Sot...  \n",
              "1  Natsuki Takaya : Original Creator, Yoshihide I...  \n",
              "2  Mo Xiang Tong Xiu : Original Creator, Xiong Ke...  \n",
              "3  Hiromu Arakawa : Original Creator, Yasuhiro Ir...  \n",
              "4  Hajime Isayama : Original Creator, Tetsurou Ar...  "
            ]
          },
          "execution_count": 11,
          "metadata": {},
          "output_type": "execute_result"
        }
      ],
      "source": [
        "# Display first few rows\n",
        "print(\"\\nFirst 5 rows:\")\n",
        "Anime.head()"
      ]
    },
    {
      "cell_type": "code",
      "execution_count": 12,
      "metadata": {
        "colab": {
          "base_uri": "https://localhost:8080/",
          "height": 486
        },
        "id": "uBTWJoohYIff",
        "outputId": "54eb4803-c47a-47d0-f73c-25f41b56479e"
      },
      "outputs": [
        {
          "name": "stdout",
          "output_type": "stream",
          "text": [
            "\n",
            "Last 5 rows:\n"
          ]
        },
        {
          "data": {
            "text/html": [
              "<div>\n",
              "<style scoped>\n",
              "    .dataframe tbody tr th:only-of-type {\n",
              "        vertical-align: middle;\n",
              "    }\n",
              "\n",
              "    .dataframe tbody tr th {\n",
              "        vertical-align: top;\n",
              "    }\n",
              "\n",
              "    .dataframe thead th {\n",
              "        text-align: right;\n",
              "    }\n",
              "</style>\n",
              "<table border=\"1\" class=\"dataframe\">\n",
              "  <thead>\n",
              "    <tr style=\"text-align: right;\">\n",
              "      <th></th>\n",
              "      <th>Rank</th>\n",
              "      <th>Name</th>\n",
              "      <th>Japanese_name</th>\n",
              "      <th>Type</th>\n",
              "      <th>Episodes</th>\n",
              "      <th>Studio</th>\n",
              "      <th>Release_season</th>\n",
              "      <th>Tags</th>\n",
              "      <th>Rating</th>\n",
              "      <th>Release_year</th>\n",
              "      <th>End_year</th>\n",
              "      <th>Description</th>\n",
              "      <th>Content_Warning</th>\n",
              "      <th>Related_Mange</th>\n",
              "      <th>Related_anime</th>\n",
              "      <th>Voice_actors</th>\n",
              "      <th>staff</th>\n",
              "    </tr>\n",
              "  </thead>\n",
              "  <tbody>\n",
              "    <tr>\n",
              "      <th>18490</th>\n",
              "      <td>18491</td>\n",
              "      <td>Qin Shi Mingyue: Canghai Hengliu Xiaomeng Spec...</td>\n",
              "      <td>NaN</td>\n",
              "      <td>Web</td>\n",
              "      <td>2.0</td>\n",
              "      <td>Sparkly Key Animation Studio</td>\n",
              "      <td>NaN</td>\n",
              "      <td>Action, Ancient China, Chinese Animation, Hist...</td>\n",
              "      <td>NaN</td>\n",
              "      <td>2020.0</td>\n",
              "      <td>NaN</td>\n",
              "      <td>Special episodes of Qin Shi Mingyue: Canghai H...</td>\n",
              "      <td>NaN</td>\n",
              "      <td>NaN</td>\n",
              "      <td>Qin Shi Mingyue: Canghai Hengliu</td>\n",
              "      <td>NaN</td>\n",
              "      <td>NaN</td>\n",
              "    </tr>\n",
              "    <tr>\n",
              "      <th>18491</th>\n",
              "      <td>18492</td>\n",
              "      <td>Yi Tang Juchang: Sanguo Yanyi</td>\n",
              "      <td>NaN</td>\n",
              "      <td>TV</td>\n",
              "      <td>108.0</td>\n",
              "      <td>NaN</td>\n",
              "      <td>NaN</td>\n",
              "      <td>Chinese Animation</td>\n",
              "      <td>NaN</td>\n",
              "      <td>2010.0</td>\n",
              "      <td>NaN</td>\n",
              "      <td>No synopsis yet - check back soon!</td>\n",
              "      <td>NaN</td>\n",
              "      <td>NaN</td>\n",
              "      <td>NaN</td>\n",
              "      <td>NaN</td>\n",
              "      <td>NaN</td>\n",
              "    </tr>\n",
              "    <tr>\n",
              "      <th>18492</th>\n",
              "      <td>18493</td>\n",
              "      <td>Fenghuang Ji Xiang Yu Qingming Shanghe Tu</td>\n",
              "      <td>NaN</td>\n",
              "      <td>TV</td>\n",
              "      <td>13.0</td>\n",
              "      <td>NaN</td>\n",
              "      <td>NaN</td>\n",
              "      <td>Chinese Animation, Family Friendly, Short Epis...</td>\n",
              "      <td>NaN</td>\n",
              "      <td>2020.0</td>\n",
              "      <td>NaN</td>\n",
              "      <td>No synopsis yet - check back soon!</td>\n",
              "      <td>NaN</td>\n",
              "      <td>NaN</td>\n",
              "      <td>NaN</td>\n",
              "      <td>NaN</td>\n",
              "      <td>NaN</td>\n",
              "    </tr>\n",
              "    <tr>\n",
              "      <th>18493</th>\n",
              "      <td>18494</td>\n",
              "      <td>Chengshi Jiyi Wo Men de Jieri</td>\n",
              "      <td>NaN</td>\n",
              "      <td>TV</td>\n",
              "      <td>NaN</td>\n",
              "      <td>NaN</td>\n",
              "      <td>NaN</td>\n",
              "      <td>Chinese Animation, Family Friendly, Short Epis...</td>\n",
              "      <td>NaN</td>\n",
              "      <td>2020.0</td>\n",
              "      <td>NaN</td>\n",
              "      <td>No synopsis yet - check back soon!</td>\n",
              "      <td>NaN</td>\n",
              "      <td>NaN</td>\n",
              "      <td>NaN</td>\n",
              "      <td>NaN</td>\n",
              "      <td>NaN</td>\n",
              "    </tr>\n",
              "    <tr>\n",
              "      <th>18494</th>\n",
              "      <td>18495</td>\n",
              "      <td>Heisei Inu Monogatari Bow: Genshi Inu Monogata...</td>\n",
              "      <td>NaN</td>\n",
              "      <td>Movie</td>\n",
              "      <td>NaN</td>\n",
              "      <td>Nippon Animation</td>\n",
              "      <td>NaN</td>\n",
              "      <td>Comedy, Slice of Life, Dogs</td>\n",
              "      <td>NaN</td>\n",
              "      <td>1994.0</td>\n",
              "      <td>NaN</td>\n",
              "      <td>No synopsis yet - check back soon!</td>\n",
              "      <td>NaN</td>\n",
              "      <td>NaN</td>\n",
              "      <td>Heisei Inu Monogatari Bow</td>\n",
              "      <td>NaN</td>\n",
              "      <td>NaN</td>\n",
              "    </tr>\n",
              "  </tbody>\n",
              "</table>\n",
              "</div>"
            ],
            "text/plain": [
              "        Rank                                               Name Japanese_name  \\\n",
              "18490  18491  Qin Shi Mingyue: Canghai Hengliu Xiaomeng Spec...           NaN   \n",
              "18491  18492                      Yi Tang Juchang: Sanguo Yanyi           NaN   \n",
              "18492  18493          Fenghuang Ji Xiang Yu Qingming Shanghe Tu           NaN   \n",
              "18493  18494                      Chengshi Jiyi Wo Men de Jieri           NaN   \n",
              "18494  18495  Heisei Inu Monogatari Bow: Genshi Inu Monogata...           NaN   \n",
              "\n",
              "        Type  Episodes                        Studio Release_season  \\\n",
              "18490  Web         2.0  Sparkly Key Animation Studio            NaN   \n",
              "18491  TV        108.0                           NaN            NaN   \n",
              "18492  TV         13.0                           NaN            NaN   \n",
              "18493  TV          NaN                           NaN            NaN   \n",
              "18494  Movie       NaN              Nippon Animation            NaN   \n",
              "\n",
              "                                                    Tags  Rating  \\\n",
              "18490  Action, Ancient China, Chinese Animation, Hist...     NaN   \n",
              "18491                                  Chinese Animation     NaN   \n",
              "18492  Chinese Animation, Family Friendly, Short Epis...     NaN   \n",
              "18493  Chinese Animation, Family Friendly, Short Epis...     NaN   \n",
              "18494                        Comedy, Slice of Life, Dogs     NaN   \n",
              "\n",
              "       Release_year  End_year  \\\n",
              "18490        2020.0       NaN   \n",
              "18491        2010.0       NaN   \n",
              "18492        2020.0       NaN   \n",
              "18493        2020.0       NaN   \n",
              "18494        1994.0       NaN   \n",
              "\n",
              "                                             Description Content_Warning  \\\n",
              "18490  Special episodes of Qin Shi Mingyue: Canghai H...             NaN   \n",
              "18491                 No synopsis yet - check back soon!             NaN   \n",
              "18492                 No synopsis yet - check back soon!             NaN   \n",
              "18493                 No synopsis yet - check back soon!             NaN   \n",
              "18494                 No synopsis yet - check back soon!             NaN   \n",
              "\n",
              "      Related_Mange                     Related_anime Voice_actors staff  \n",
              "18490           NaN  Qin Shi Mingyue: Canghai Hengliu          NaN   NaN  \n",
              "18491           NaN                               NaN          NaN   NaN  \n",
              "18492           NaN                               NaN          NaN   NaN  \n",
              "18493           NaN                               NaN          NaN   NaN  \n",
              "18494           NaN         Heisei Inu Monogatari Bow          NaN   NaN  "
            ]
          },
          "execution_count": 12,
          "metadata": {},
          "output_type": "execute_result"
        }
      ],
      "source": [
        "# Display last few rows\n",
        "print(\"\\nLast 5 rows:\")\n",
        "Anime.tail()\n"
      ]
    },
    {
      "cell_type": "code",
      "execution_count": 13,
      "metadata": {
        "colab": {
          "base_uri": "https://localhost:8080/",
          "height": 371
        },
        "id": "UioDWYzfYL1s",
        "outputId": "bdd8cfb1-6838-4ef3-ffc5-791783049b8a"
      },
      "outputs": [
        {
          "name": "stdout",
          "output_type": "stream",
          "text": [
            "\n",
            "Random sample of 3 rows:\n"
          ]
        },
        {
          "data": {
            "text/html": [
              "<div>\n",
              "<style scoped>\n",
              "    .dataframe tbody tr th:only-of-type {\n",
              "        vertical-align: middle;\n",
              "    }\n",
              "\n",
              "    .dataframe tbody tr th {\n",
              "        vertical-align: top;\n",
              "    }\n",
              "\n",
              "    .dataframe thead th {\n",
              "        text-align: right;\n",
              "    }\n",
              "</style>\n",
              "<table border=\"1\" class=\"dataframe\">\n",
              "  <thead>\n",
              "    <tr style=\"text-align: right;\">\n",
              "      <th></th>\n",
              "      <th>Rank</th>\n",
              "      <th>Name</th>\n",
              "      <th>Japanese_name</th>\n",
              "      <th>Type</th>\n",
              "      <th>Episodes</th>\n",
              "      <th>Studio</th>\n",
              "      <th>Release_season</th>\n",
              "      <th>Tags</th>\n",
              "      <th>Rating</th>\n",
              "      <th>Release_year</th>\n",
              "      <th>End_year</th>\n",
              "      <th>Description</th>\n",
              "      <th>Content_Warning</th>\n",
              "      <th>Related_Mange</th>\n",
              "      <th>Related_anime</th>\n",
              "      <th>Voice_actors</th>\n",
              "      <th>staff</th>\n",
              "    </tr>\n",
              "  </thead>\n",
              "  <tbody>\n",
              "    <tr>\n",
              "      <th>6658</th>\n",
              "      <td>6659</td>\n",
              "      <td>Buzzer Beater 2nd Season</td>\n",
              "      <td>NaN</td>\n",
              "      <td>TV</td>\n",
              "      <td>13.0</td>\n",
              "      <td>TMS Entertainment</td>\n",
              "      <td>Summer</td>\n",
              "      <td>Sci Fi, Shounen, Sports, Aliens, Basketball, B...</td>\n",
              "      <td>3.41</td>\n",
              "      <td>2007.0</td>\n",
              "      <td>NaN</td>\n",
              "      <td>\"After being drafted into the Earth Team - a b...</td>\n",
              "      <td>NaN</td>\n",
              "      <td>Buzzer Beater</td>\n",
              "      <td>Buzzer Beater</td>\n",
              "      <td>Cha-Che : Sanae Kobayashi, Dt : Yuuji Ueda, Ha...</td>\n",
              "      <td>Takehiko Inoue : Original Creator, Shigeyuki M...</td>\n",
              "    </tr>\n",
              "    <tr>\n",
              "      <th>1419</th>\n",
              "      <td>1420</td>\n",
              "      <td>Tokyo Ravens</td>\n",
              "      <td>NaN</td>\n",
              "      <td>TV</td>\n",
              "      <td>24.0</td>\n",
              "      <td>8-Bit</td>\n",
              "      <td>Fall</td>\n",
              "      <td>Action, Magic, Magic School, School Life, Supe...</td>\n",
              "      <td>3.88</td>\n",
              "      <td>2013.0</td>\n",
              "      <td>2014.0</td>\n",
              "      <td>\"As a descendant of the famous Tsuchimikado sh...</td>\n",
              "      <td>NaN</td>\n",
              "      <td>Tokyo Ravens, Tokyo Ravens (Light Novel), Toky...</td>\n",
              "      <td>Tokyo Ravens Specials</td>\n",
              "      <td>Harutora Tsuchimikado : Kaito Ishikawa, Natsum...</td>\n",
              "      <td>Takaomi Kanasaki : Director, Maiko Iuchi : Mus...</td>\n",
              "    </tr>\n",
              "    <tr>\n",
              "      <th>15376</th>\n",
              "      <td>15377</td>\n",
              "      <td>ROXY x Masanobu Featuring Stephanie Gilmore</td>\n",
              "      <td>NaN</td>\n",
              "      <td>Web</td>\n",
              "      <td>1.0</td>\n",
              "      <td>NaN</td>\n",
              "      <td>NaN</td>\n",
              "      <td>No Dialogue, Promotional, Shorts</td>\n",
              "      <td>NaN</td>\n",
              "      <td>2018.0</td>\n",
              "      <td>NaN</td>\n",
              "      <td>No synopsis yet - check back soon!</td>\n",
              "      <td>NaN</td>\n",
              "      <td>NaN</td>\n",
              "      <td>NaN</td>\n",
              "      <td>Stephanie Gilmore, Masanobu Hiraoka\\nDirector</td>\n",
              "      <td>Masanobu Hiraoka : Director</td>\n",
              "    </tr>\n",
              "  </tbody>\n",
              "</table>\n",
              "</div>"
            ],
            "text/plain": [
              "        Rank                                         Name Japanese_name  \\\n",
              "6658    6659                     Buzzer Beater 2nd Season           NaN   \n",
              "1419    1420                                 Tokyo Ravens           NaN   \n",
              "15376  15377  ROXY x Masanobu Featuring Stephanie Gilmore           NaN   \n",
              "\n",
              "        Type  Episodes             Studio Release_season  \\\n",
              "6658   TV         13.0  TMS Entertainment         Summer   \n",
              "1419   TV         24.0              8-Bit          Fall    \n",
              "15376  Web         1.0                NaN            NaN   \n",
              "\n",
              "                                                    Tags  Rating  \\\n",
              "6658   Sci Fi, Shounen, Sports, Aliens, Basketball, B...    3.41   \n",
              "1419   Action, Magic, Magic School, School Life, Supe...    3.88   \n",
              "15376                   No Dialogue, Promotional, Shorts     NaN   \n",
              "\n",
              "       Release_year  End_year  \\\n",
              "6658         2007.0       NaN   \n",
              "1419         2013.0    2014.0   \n",
              "15376        2018.0       NaN   \n",
              "\n",
              "                                             Description Content_Warning  \\\n",
              "6658   \"After being drafted into the Earth Team - a b...             NaN   \n",
              "1419   \"As a descendant of the famous Tsuchimikado sh...             NaN   \n",
              "15376                 No synopsis yet - check back soon!             NaN   \n",
              "\n",
              "                                           Related_Mange  \\\n",
              "6658                                       Buzzer Beater   \n",
              "1419   Tokyo Ravens, Tokyo Ravens (Light Novel), Toky...   \n",
              "15376                                                NaN   \n",
              "\n",
              "               Related_anime  \\\n",
              "6658           Buzzer Beater   \n",
              "1419   Tokyo Ravens Specials   \n",
              "15376                    NaN   \n",
              "\n",
              "                                            Voice_actors  \\\n",
              "6658   Cha-Che : Sanae Kobayashi, Dt : Yuuji Ueda, Ha...   \n",
              "1419   Harutora Tsuchimikado : Kaito Ishikawa, Natsum...   \n",
              "15376      Stephanie Gilmore, Masanobu Hiraoka\\nDirector   \n",
              "\n",
              "                                                   staff  \n",
              "6658   Takehiko Inoue : Original Creator, Shigeyuki M...  \n",
              "1419   Takaomi Kanasaki : Director, Maiko Iuchi : Mus...  \n",
              "15376                        Masanobu Hiraoka : Director  "
            ]
          },
          "execution_count": 13,
          "metadata": {},
          "output_type": "execute_result"
        }
      ],
      "source": [
        "# Display random sample\n",
        "print(\"\\nRandom sample of 3 rows:\")\n",
        "Anime.sample(3)\n"
      ]
    },
    {
      "cell_type": "code",
      "execution_count": 14,
      "metadata": {
        "colab": {
          "base_uri": "https://localhost:8080/"
        },
        "id": "DzrvZNveYPzs",
        "outputId": "e8a5a19a-3b54-4796-fad6-805ce39e3234"
      },
      "outputs": [
        {
          "name": "stdout",
          "output_type": "stream",
          "text": [
            "<class 'pandas.core.frame.DataFrame'>\n",
            "RangeIndex: 18495 entries, 0 to 18494\n",
            "Data columns (total 17 columns):\n",
            " #   Column           Non-Null Count  Dtype  \n",
            "---  ------           --------------  -----  \n",
            " 0   Rank             18495 non-null  int64  \n",
            " 1   Name             18495 non-null  object \n",
            " 2   Japanese_name    7938 non-null   object \n",
            " 3   Type             18495 non-null  object \n",
            " 4   Episodes         9501 non-null   float64\n",
            " 5   Studio           12018 non-null  object \n",
            " 6   Release_season   4116 non-null   object \n",
            " 7   Tags             18095 non-null  object \n",
            " 8   Rating           15364 non-null  float64\n",
            " 9   Release_year     18112 non-null  float64\n",
            " 10  End_year         2854 non-null   float64\n",
            " 11  Description      18491 non-null  object \n",
            " 12  Content_Warning  1840 non-null   object \n",
            " 13  Related_Mange    7627 non-null   object \n",
            " 14  Related_anime    10063 non-null  object \n",
            " 15  Voice_actors     15309 non-null  object \n",
            " 16  staff            13005 non-null  object \n",
            "dtypes: float64(4), int64(1), object(12)\n",
            "memory usage: 2.4+ MB\n",
            "None\n"
          ]
        }
      ],
      "source": [
        "# Dataset info\n",
        "print(Anime.info())"
      ]
    },
    {
      "cell_type": "code",
      "execution_count": 15,
      "metadata": {
        "colab": {
          "base_uri": "https://localhost:8080/",
          "height": 300
        },
        "id": "WIga6-O7Y6yW",
        "outputId": "24931cd8-9bdf-4b25-837f-04c3325a1346"
      },
      "outputs": [
        {
          "data": {
            "text/html": [
              "<div>\n",
              "<style scoped>\n",
              "    .dataframe tbody tr th:only-of-type {\n",
              "        vertical-align: middle;\n",
              "    }\n",
              "\n",
              "    .dataframe tbody tr th {\n",
              "        vertical-align: top;\n",
              "    }\n",
              "\n",
              "    .dataframe thead th {\n",
              "        text-align: right;\n",
              "    }\n",
              "</style>\n",
              "<table border=\"1\" class=\"dataframe\">\n",
              "  <thead>\n",
              "    <tr style=\"text-align: right;\">\n",
              "      <th></th>\n",
              "      <th>Rank</th>\n",
              "      <th>Episodes</th>\n",
              "      <th>Rating</th>\n",
              "      <th>Release_year</th>\n",
              "      <th>End_year</th>\n",
              "    </tr>\n",
              "  </thead>\n",
              "  <tbody>\n",
              "    <tr>\n",
              "      <th>count</th>\n",
              "      <td>18495.00000</td>\n",
              "      <td>9501.000000</td>\n",
              "      <td>15364.000000</td>\n",
              "      <td>18112.000000</td>\n",
              "      <td>2854.000000</td>\n",
              "    </tr>\n",
              "    <tr>\n",
              "      <th>mean</th>\n",
              "      <td>9248.00000</td>\n",
              "      <td>20.920850</td>\n",
              "      <td>3.355133</td>\n",
              "      <td>2006.520318</td>\n",
              "      <td>2004.256132</td>\n",
              "    </tr>\n",
              "    <tr>\n",
              "      <th>std</th>\n",
              "      <td>5339.19095</td>\n",
              "      <td>37.990858</td>\n",
              "      <td>0.400624</td>\n",
              "      <td>15.189537</td>\n",
              "      <td>13.257484</td>\n",
              "    </tr>\n",
              "    <tr>\n",
              "      <th>min</th>\n",
              "      <td>1.00000</td>\n",
              "      <td>1.000000</td>\n",
              "      <td>0.960000</td>\n",
              "      <td>1907.000000</td>\n",
              "      <td>1962.000000</td>\n",
              "    </tr>\n",
              "    <tr>\n",
              "      <th>25%</th>\n",
              "      <td>4624.50000</td>\n",
              "      <td>2.000000</td>\n",
              "      <td>3.130000</td>\n",
              "      <td>2001.000000</td>\n",
              "      <td>1996.000000</td>\n",
              "    </tr>\n",
              "    <tr>\n",
              "      <th>50%</th>\n",
              "      <td>9248.00000</td>\n",
              "      <td>12.000000</td>\n",
              "      <td>3.360000</td>\n",
              "      <td>2012.000000</td>\n",
              "      <td>2007.000000</td>\n",
              "    </tr>\n",
              "    <tr>\n",
              "      <th>75%</th>\n",
              "      <td>13871.50000</td>\n",
              "      <td>26.000000</td>\n",
              "      <td>3.590000</td>\n",
              "      <td>2017.000000</td>\n",
              "      <td>2015.000000</td>\n",
              "    </tr>\n",
              "    <tr>\n",
              "      <th>max</th>\n",
              "      <td>18495.00000</td>\n",
              "      <td>800.000000</td>\n",
              "      <td>4.600000</td>\n",
              "      <td>2023.000000</td>\n",
              "      <td>2022.000000</td>\n",
              "    </tr>\n",
              "  </tbody>\n",
              "</table>\n",
              "</div>"
            ],
            "text/plain": [
              "              Rank     Episodes        Rating  Release_year     End_year\n",
              "count  18495.00000  9501.000000  15364.000000  18112.000000  2854.000000\n",
              "mean    9248.00000    20.920850      3.355133   2006.520318  2004.256132\n",
              "std     5339.19095    37.990858      0.400624     15.189537    13.257484\n",
              "min        1.00000     1.000000      0.960000   1907.000000  1962.000000\n",
              "25%     4624.50000     2.000000      3.130000   2001.000000  1996.000000\n",
              "50%     9248.00000    12.000000      3.360000   2012.000000  2007.000000\n",
              "75%    13871.50000    26.000000      3.590000   2017.000000  2015.000000\n",
              "max    18495.00000   800.000000      4.600000   2023.000000  2022.000000"
            ]
          },
          "execution_count": 15,
          "metadata": {},
          "output_type": "execute_result"
        }
      ],
      "source": [
        "# Describe numerical columns\n",
        "Anime.describe()"
      ]
    },
    {
      "cell_type": "code",
      "execution_count": 16,
      "metadata": {
        "colab": {
          "base_uri": "https://localhost:8080/"
        },
        "id": "6S5-Q26DZE3B",
        "outputId": "6054d510-2f42-47cd-e0a3-e2bd2660c992"
      },
      "outputs": [
        {
          "name": "stdout",
          "output_type": "stream",
          "text": [
            "Rank                   0\n",
            "Name                   0\n",
            "Japanese_name      10557\n",
            "Type                   0\n",
            "Episodes            8994\n",
            "Studio              6477\n",
            "Release_season     14379\n",
            "Tags                 400\n",
            "Rating              3131\n",
            "Release_year         383\n",
            "End_year           15641\n",
            "Description            4\n",
            "Content_Warning    16655\n",
            "Related_Mange      10868\n",
            "Related_anime       8432\n",
            "Voice_actors        3186\n",
            "staff               5490\n",
            "dtype: int64\n"
          ]
        }
      ],
      "source": [
        "# Check for missing values\n",
        "print(Anime.isnull().sum())"
      ]
    },
    {
      "cell_type": "code",
      "execution_count": 17,
      "metadata": {
        "colab": {
          "base_uri": "https://localhost:8080/"
        },
        "id": "_OmDWbExZLRR",
        "outputId": "5f70ede3-9285-4105-e1a3-91ed336b9bff"
      },
      "outputs": [
        {
          "name": "stdout",
          "output_type": "stream",
          "text": [
            "Rank                 int64\n",
            "Name                object\n",
            "Japanese_name       object\n",
            "Type                object\n",
            "Episodes           float64\n",
            "Studio              object\n",
            "Release_season      object\n",
            "Tags                object\n",
            "Rating             float64\n",
            "Release_year       float64\n",
            "End_year           float64\n",
            "Description         object\n",
            "Content_Warning     object\n",
            "Related_Mange       object\n",
            "Related_anime       object\n",
            "Voice_actors        object\n",
            "staff               object\n",
            "dtype: object\n"
          ]
        }
      ],
      "source": [
        "# Check data types\n",
        "print(Anime.dtypes)"
      ]
    },
    {
      "cell_type": "markdown",
      "metadata": {
        "id": "NOJWYYbYZOJ-"
      },
      "source": [
        "# =====================================================\n",
        "# 4. DATA SELECTION AND INDEXING\n",
        "# =====================================================\n"
      ]
    },
    {
      "cell_type": "code",
      "execution_count": 21,
      "metadata": {
        "colab": {
          "base_uri": "https://localhost:8080/"
        },
        "id": "UAl2hEMaZfDz",
        "outputId": "3bc6adf3-0f63-4c05-e70f-b2e7789e0257"
      },
      "outputs": [
        {
          "name": "stdout",
          "output_type": "stream",
          "text": [
            "4. DATA SELECTION AND INDEXING\n",
            "============================================================\n",
            "\n",
            "4.1 Column Selection:\n",
            "------------------------------\n",
            "Type of single column selection: <class 'pandas.core.series.Series'>\n",
            "First 5 Rank: [1, 2, 3, 4, 5]\n"
          ]
        }
      ],
      "source": [
        "print(\"4. DATA SELECTION AND INDEXING\")\n",
        "print(\"=\"*60)\n",
        "\n",
        "# Column selection\n",
        "print(\"\\n4.1 Column Selection:\")\n",
        "print(\"-\" * 30)\n",
        "\n",
        "# Single column (returns Series)\n",
        "Rank_series = Anime['Rank']\n",
        "print(f\"Type of single column selection: {type(Rank_series)}\")\n",
        "print(f\"First 5 Rank: {Rank_series.head().tolist()}\")"
      ]
    },
    {
      "cell_type": "code",
      "execution_count": null,
      "metadata": {
        "colab": {
          "base_uri": "https://localhost:8080/"
        },
        "id": "Lgq28y82Zvbg",
        "outputId": "254f6c07-d8d1-4e7a-8b5c-2ddd3db3c14e"
      },
      "outputs": [
        {
          "name": "stdout",
          "output_type": "stream",
          "text": [
            "\n",
            "Type of multiple column selection: <class 'pandas.core.frame.DataFrame'>\n",
            "First 3 rows of passenger info:\n",
            "   Rank                                               Name   Type\n",
            "0     1  Demon Slayer: Kimetsu no Yaiba - Entertainment...  TV   \n",
            "1     2                     Fruits Basket the Final Season  TV   \n",
            "2     3                                    Mo Dao Zu Shi 3  Web  \n"
          ]
        }
      ],
      "source": [
        "# Multiple columns (returns DataFrame)\n",
        "Anime_info = Anime[['Rank', 'Name', 'Type']]\n",
        "print(f\"\\nType of multiple column selection: {type(Anime_info)}\")\n",
        "print(\"First 3 rows of Anime info:\")\n",
        "print(Anime_info.head(3))\n"
      ]
    },
    {
      "cell_type": "code",
      "execution_count": 25,
      "metadata": {
        "colab": {
          "base_uri": "https://localhost:8080/"
        },
        "id": "UWLjEoNkZ8Jp",
        "outputId": "42930af6-ebca-4c21-da45-816e278f8469"
      },
      "outputs": [
        {
          "name": "stdout",
          "output_type": "stream",
          "text": [
            "\n",
            "4.2 Row Selection with iloc:\n",
            "------------------------------\n",
            "First Anime:\n",
            "Rank                                                               1\n",
            "Name               Demon Slayer: Kimetsu no Yaiba - Entertainment...\n",
            "Japanese_name                          Kimetsu no Yaiba: Yuukaku-hen\n",
            "Type                                                           TV   \n",
            "Episodes                                                         NaN\n",
            "Studio                                                      ufotable\n",
            "Release_season                                                 Fall \n",
            "Tags               Action, Adventure, Fantasy, Shounen, Demons, H...\n",
            "Rating                                                           4.6\n",
            "Release_year                                                  2021.0\n",
            "End_year                                                         NaN\n",
            "Description        'Tanjiro and his friends accompany the Hashira...\n",
            "Content_Warning                                    Explicit Violence\n",
            "Related_Mange                         Demon Slayer: Kimetsu no Yaiba\n",
            "Related_anime      Demon Slayer: Kimetsu no Yaiba, Demon Slayer: ...\n",
            "Voice_actors       Inosuke Hashibira : Yoshitsugu Matsuoka, Nezuk...\n",
            "staff              Koyoharu Gotouge : Original Creator, Haruo Sot...\n",
            "Name: 0, dtype: object\n",
            "\n",
            "Type of row selection: <class 'pandas.core.series.Series'>\n"
          ]
        }
      ],
      "source": [
        "# Row selection using iloc (integer-location based)\n",
        "print(\"\\n4.2 Row Selection with iloc:\")\n",
        "print(\"-\" * 30)\n",
        "\n",
        "# Single row\n",
        "first_Anime =Anime.iloc[0]\n",
        "print(f\"First Anime:\\n{first_Anime}\")\n",
        "print(f\"\\nType of row selection: {type(first_Anime)}\")\n"
      ]
    },
    {
      "cell_type": "code",
      "execution_count": 28,
      "metadata": {
        "colab": {
          "base_uri": "https://localhost:8080/"
        },
        "id": "izbfoOpJaUa4",
        "outputId": "1130f2c1-5584-4e9c-c8b4-2f5ecf300749"
      },
      "outputs": [
        {
          "name": "stdout",
          "output_type": "stream",
          "text": [
            "\n",
            "First 5 Anime (shape: (5, 17)):\n",
            "   Rank                                               Name  \\\n",
            "0     1  Demon Slayer: Kimetsu no Yaiba - Entertainment...   \n",
            "1     2                     Fruits Basket the Final Season   \n",
            "2     3                                    Mo Dao Zu Shi 3   \n",
            "3     4                   Fullmetal Alchemist: Brotherhood   \n",
            "4     5                Attack on Titan 3rd Season: Part II   \n",
            "\n",
            "                                     Japanese_name   Type  Episodes  \\\n",
            "0                    Kimetsu no Yaiba: Yuukaku-hen  TV          NaN   \n",
            "1                          Fruits Basket the Final  TV         13.0   \n",
            "2                       The Founder of Diabolism 3  Web        12.0   \n",
            "3   Hagane no Renkinjutsushi: Full Metal Alchemist  TV         64.0   \n",
            "4             Shingeki no Kyojin Season 3: Part II  TV         10.0   \n",
            "\n",
            "              Studio Release_season  \\\n",
            "0           ufotable          Fall    \n",
            "1  TMS Entertainment         Spring   \n",
            "2   B.C MAY PICTURES            NaN   \n",
            "3              Bones         Spring   \n",
            "4         WIT Studio         Spring   \n",
            "\n",
            "                                                Tags  Rating  Release_year  \\\n",
            "0  Action, Adventure, Fantasy, Shounen, Demons, H...    4.60        2021.0   \n",
            "1  Drama, Fantasy, Romance, Shoujo, Animal Transf...    4.60        2021.0   \n",
            "2  Fantasy, Ancient China, Chinese Animation, Cul...    4.58        2021.0   \n",
            "3  Action, Adventure, Drama, Fantasy, Mystery, Sh...    4.58        2009.0   \n",
            "4  Action, Fantasy, Horror, Shounen, Dark Fantasy...    4.57        2019.0   \n",
            "\n",
            "   End_year                                        Description  \\\n",
            "0       NaN  'Tanjiro and his friends accompany the Hashira...   \n",
            "1       NaN                  'The final arc of Fruits Basket.'   \n",
            "2       NaN               'The third season of Mo Dao Zu Shi.'   \n",
            "3    2010.0  \"The foundation of alchemy is based on the law...   \n",
            "4       NaN  'The battle to retake Wall Maria begins now! W...   \n",
            "\n",
            "                                     Content_Warning  \\\n",
            "0                                  Explicit Violence   \n",
            "1  Emotional Abuse,, Mature Themes,, Physical Abu...   \n",
            "2                                                NaN   \n",
            "3  Animal Abuse,, Mature Themes,, Violence,, Dome...   \n",
            "4                    Cannibalism,, Explicit Violence   \n",
            "\n",
            "                                       Related_Mange  \\\n",
            "0                     Demon Slayer: Kimetsu no Yaiba   \n",
            "1               Fruits Basket, Fruits Basket Another   \n",
            "2  Grandmaster of Demonic Cultivation: Mo Dao Zu ...   \n",
            "3  Fullmetal Alchemist, Fullmetal Alchemist (Ligh...   \n",
            "4  Attack on Titan, Attack on Titan: End of the W...   \n",
            "\n",
            "                                       Related_anime  \\\n",
            "0  Demon Slayer: Kimetsu no Yaiba, Demon Slayer: ...   \n",
            "1  Fruits Basket 1st Season, Fruits Basket 2nd Se...   \n",
            "2                   Mo Dao Zu Shi 2, Mo Dao Zu Shi Q   \n",
            "3  Fullmetal Alchemist: Brotherhood Specials, Ful...   \n",
            "4  Attack on Titan, Attack on Titan 2nd Season, A...   \n",
            "\n",
            "                                        Voice_actors  \\\n",
            "0  Inosuke Hashibira : Yoshitsugu Matsuoka, Nezuk...   \n",
            "1  Akito Sohma : Maaya Sakamoto, Kyo Sohma : Yuum...   \n",
            "2  Lan Wangji, Wei Wuxian, Jiang Cheng, Jin Guang...   \n",
            "3  Alphonse Elric : Rie Kugimiya, Edward Elric : ...   \n",
            "4  Armin Arlelt : Marina Inoue, Eren Jaeger : Yuu...   \n",
            "\n",
            "                                               staff  \n",
            "0  Koyoharu Gotouge : Original Creator, Haruo Sot...  \n",
            "1  Natsuki Takaya : Original Creator, Yoshihide I...  \n",
            "2  Mo Xiang Tong Xiu : Original Creator, Xiong Ke...  \n",
            "3  Hiromu Arakawa : Original Creator, Yasuhiro Ir...  \n",
            "4  Hajime Isayama : Original Creator, Tetsurou Ar...  \n",
            "   Rank                                               Name   Type\n",
            "0     1  Demon Slayer: Kimetsu no Yaiba - Entertainment...  TV   \n",
            "1     2                     Fruits Basket the Final Season  TV   \n",
            "2     3                                    Mo Dao Zu Shi 3  Web  \n",
            "3     4                   Fullmetal Alchemist: Brotherhood  TV   \n",
            "4     5                Attack on Titan 3rd Season: Part II  TV   \n"
          ]
        }
      ],
      "source": [
        "# Multiple rows\n",
        "first_five = Anime.iloc[0:5]\n",
        "print(f\"\\nFirst 5 Anime (shape: {first_five.shape}):\")\n",
        "print(first_five)\n",
        "print(first_five[['Rank', 'Name', 'Type']])"
      ]
    },
    {
      "cell_type": "code",
      "execution_count": 29,
      "metadata": {
        "colab": {
          "base_uri": "https://localhost:8080/"
        },
        "id": "ypg18E4RapQW",
        "outputId": "bf22724c-2cfa-47dd-d3b9-a5bc2ee9eec8"
      },
      "outputs": [
        {
          "name": "stdout",
          "output_type": "stream",
          "text": [
            "\n",
            "Specific rows (0, 5, 10):\n",
            "    Rank                                               Name  Episodes\n",
            "0      1  Demon Slayer: Kimetsu no Yaiba - Entertainment...       NaN\n",
            "5      6                                     Jujutsu Kaisen      24.0\n",
            "10    11                                         your name.       NaN\n",
            "\n",
            "4.3 Row and Column Selection:\n",
            "------------------------------\n",
            "Subset (first 5 rows, columns 1-3):\n",
            "                                                Name  \\\n",
            "0  Demon Slayer: Kimetsu no Yaiba - Entertainment...   \n",
            "1                     Fruits Basket the Final Season   \n",
            "2                                    Mo Dao Zu Shi 3   \n",
            "3                   Fullmetal Alchemist: Brotherhood   \n",
            "4                Attack on Titan 3rd Season: Part II   \n",
            "\n",
            "                                     Japanese_name   Type  \n",
            "0                    Kimetsu no Yaiba: Yuukaku-hen  TV     \n",
            "1                          Fruits Basket the Final  TV     \n",
            "2                       The Founder of Diabolism 3  Web    \n",
            "3   Hagane no Renkinjutsushi: Full Metal Alchemist  TV     \n",
            "4             Shingeki no Kyojin Season 3: Part II  TV     \n"
          ]
        }
      ],
      "source": [
        "# Specific rows\n",
        "specific_rows = Anime.iloc[[0, 5, 10]]\n",
        "print(f\"\\nSpecific rows (0, 5, 10):\")\n",
        "print(specific_rows[['Rank', 'Name', 'Episodes']])\n",
        "\n",
        "# Row and column selection\n",
        "print(\"\\n4.3 Row and Column Selection:\")\n",
        "print(\"-\" * 30)\n",
        "\n",
        "# Select specific rows and columns\n",
        "subset = Anime.iloc[0:5, 1:4]  # First 5 rows, columns 1-3\n",
        "print(\"Subset (first 5 rows, columns 1-3):\")\n",
        "print(subset)"
      ]
    },
    {
      "cell_type": "code",
      "execution_count": 30,
      "metadata": {
        "colab": {
          "base_uri": "https://localhost:8080/"
        },
        "id": "fSrq0TLVazpO",
        "outputId": "7fec0f30-fa38-4c90-b7c1-df67cff3d690"
      },
      "outputs": [
        {
          "name": "stdout",
          "output_type": "stream",
          "text": [
            "\n",
            "Using loc with column names:\n",
            "                                                Name  \\\n",
            "0  Demon Slayer: Kimetsu no Yaiba - Entertainment...   \n",
            "1                     Fruits Basket the Final Season   \n",
            "2                                    Mo Dao Zu Shi 3   \n",
            "3                   Fullmetal Alchemist: Brotherhood   \n",
            "4                Attack on Titan 3rd Season: Part II   \n",
            "\n",
            "                                                Tags  \n",
            "0  Action, Adventure, Fantasy, Shounen, Demons, H...  \n",
            "1  Drama, Fantasy, Romance, Shoujo, Animal Transf...  \n",
            "2  Fantasy, Ancient China, Chinese Animation, Cul...  \n",
            "3  Action, Adventure, Drama, Fantasy, Mystery, Sh...  \n",
            "4  Action, Fantasy, Horror, Shounen, Dark Fantasy...  \n"
          ]
        }
      ],
      "source": [
        "# Using column names with loc\n",
        "Name_tags_subset = Anime.loc[0:4, ['Name', 'Tags']]\n",
        "print(f\"\\nUsing loc with column names:\")\n",
        "print(Name_tags_subset)"
      ]
    },
    {
      "cell_type": "markdown",
      "metadata": {
        "id": "Mxiut9AKbDz6"
      },
      "source": [
        "# =====================================================\n",
        "# 5. DATA CLEANING AND HANDLING MISSING VALUES\n",
        "# ====================================================="
      ]
    },
    {
      "cell_type": "code",
      "execution_count": 31,
      "metadata": {
        "colab": {
          "base_uri": "https://localhost:8080/"
        },
        "id": "vvjbmL9PbNSH",
        "outputId": "0a48137e-3f7b-4ba2-d96f-28a9bc6e644c"
      },
      "outputs": [
        {
          "name": "stdout",
          "output_type": "stream",
          "text": [
            "\n",
            "============================================================\n",
            "5. DATA CLEANING AND HANDLING MISSING VALUES\n",
            "============================================================\n",
            "\n",
            "5.1 Identifying Missing Values:\n",
            "------------------------------\n",
            "Missing values per column:\n",
            "Japanese_name      10557\n",
            "Episodes            8994\n",
            "Studio              6477\n",
            "Release_season     14379\n",
            "Tags                 400\n",
            "Rating              3131\n",
            "Release_year         383\n",
            "End_year           15641\n",
            "Description            4\n",
            "Content_Warning    16655\n",
            "Related_Mange      10868\n",
            "Related_anime       8432\n",
            "Voice_actors        3186\n",
            "staff               5490\n",
            "dtype: int64\n"
          ]
        }
      ],
      "source": [
        "print(\"\\n\" + \"=\"*60)\n",
        "print(\"5. DATA CLEANING AND HANDLING MISSING VALUES\")\n",
        "print(\"=\"*60)\n",
        "\n",
        "print(\"\\n5.1 Identifying Missing Values:\")\n",
        "print(\"-\" * 30)\n",
        "\n",
        "# Check for missing values\n",
        "missing_counts = Anime.isnull().sum()\n",
        "print(\"Missing values per column:\")\n",
        "print(missing_counts[missing_counts > 0])"
      ]
    },
    {
      "cell_type": "code",
      "execution_count": 32,
      "metadata": {
        "colab": {
          "base_uri": "https://localhost:8080/"
        },
        "id": "NwaDGj0LbQ5y",
        "outputId": "250a1a74-1f67-4796-8454-5b39c8566a42"
      },
      "outputs": [
        {
          "name": "stdout",
          "output_type": "stream",
          "text": [
            "\n",
            "Percentage of missing values:\n",
            "Japanese_name      57.080292\n",
            "Episodes           48.629359\n",
            "Studio             35.020276\n",
            "Release_season     77.745337\n",
            "Tags                2.162747\n",
            "Rating             16.928900\n",
            "Release_year        2.070830\n",
            "End_year           84.568802\n",
            "Description         0.021627\n",
            "Content_Warning    90.051365\n",
            "Related_Mange      58.761828\n",
            "Related_anime      45.590700\n",
            "Voice_actors       17.226277\n",
            "staff              29.683698\n",
            "dtype: float64\n"
          ]
        }
      ],
      "source": [
        "# Percentage of missing values\n",
        "missing_percentage = (Anime.isnull().sum() / len(Anime)) * 100\n",
        "print(\"\\nPercentage of missing values:\")\n",
        "print(missing_percentage[missing_percentage > 0])"
      ]
    },
    {
      "cell_type": "code",
      "execution_count": 33,
      "metadata": {
        "colab": {
          "base_uri": "https://localhost:8080/"
        },
        "id": "1qIKy-CxbsqH",
        "outputId": "71e640ff-f703-4f5b-e73d-e27706178e97"
      },
      "outputs": [
        {
          "name": "stdout",
          "output_type": "stream",
          "text": [
            "\n",
            "5.2 Handling Missing Values:\n",
            "------------------------------\n",
            "Original shape: (18495, 17)\n",
            "After dropping all NAs: (40, 17)\n"
          ]
        }
      ],
      "source": [
        "print(\"\\n5.2 Handling Missing Values:\")\n",
        "print(\"-\" * 30)\n",
        "\n",
        "# Create a copy for cleaning\n",
        "Anime_clean = Anime.copy()\n",
        "\n",
        "# Method 1: Drop rows with missing values\n",
        "print(f\"Original shape: {Anime_clean.shape}\")\n",
        "Anime_no_na = Anime_clean.dropna()\n",
        "print(f\"After dropping all NAs: {Anime_no_na.shape}\")"
      ]
    },
    {
      "cell_type": "code",
      "execution_count": 42,
      "metadata": {
        "colab": {
          "base_uri": "https://localhost:8080/"
        },
        "id": "6McHoWP1b2pP",
        "outputId": "aa09caf9-4c95-42e2-865a-93f0086614b1"
      },
      "outputs": [
        {
          "name": "stdout",
          "output_type": "stream",
          "text": [
            "After dropping columns with NAs: (18495, 5)\n"
          ]
        }
      ],
      "source": [
        "# Method 2: Drop specific columns with missing values\n",
        "Anime_drop_cols = Anime_clean.dropna(axis=1)\n",
        "print(f\"After dropping columns with NAs: {Anime_drop_cols.shape}\")"
      ]
    },
    {
      "cell_type": "code",
      "execution_count": 41,
      "metadata": {
        "colab": {
          "base_uri": "https://localhost:8080/"
        },
        "id": "-0BYLcQ_cUsS",
        "outputId": "76f4dcee-6340-429b-f537-321d6788e2dc"
      },
      "outputs": [
        {
          "name": "stdout",
          "output_type": "stream",
          "text": [
            "Filled missing staff with mode: Pinocchio-P : Producer\n"
          ]
        }
      ],
      "source": [
        "# Fill categorical missing values with mode\n",
        "if 'staff' in Anime_clean.columns:\n",
        "    mode_staff = Anime_clean['staff'].mode()[0]\n",
        "    Anime_clean['staff'].fillna(mode_staff, inplace=True)\n",
        "    print(f\"Filled missing staff with mode: {mode_staff}\")\n"
      ]
    },
    {
      "cell_type": "code",
      "execution_count": 44,
      "metadata": {
        "colab": {
          "base_uri": "https://localhost:8080/"
        },
        "id": "YeU-OwuPdnSA",
        "outputId": "81f61dbd-7029-4dc0-d517-f54695f77f20"
      },
      "outputs": [],
      "source": [
        "# Fill categorical missing values with mode\n",
        "if 'Embarked' in Anime_clean.columns:\n",
        "    mode_embarked = Anime_clean['Embarked'].mode()[0]\n",
        "    Anime_clean['Embarked'].fillna(mode_embarked, inplace=True)\n",
        "    print(f\"Filled missing embarked with mode: {mode_embarked}\")\n"
      ]
    },
    {
      "cell_type": "code",
      "execution_count": 45,
      "metadata": {
        "colab": {
          "base_uri": "https://localhost:8080/"
        },
        "id": "A28mWwX0dqTF",
        "outputId": "fe84e945-bdf4-4c34-af26-cc51c03a0d41"
      },
      "outputs": [
        {
          "name": "stdout",
          "output_type": "stream",
          "text": [
            "\n",
            "Missing values after cleaning: Rank                   0\n",
            "Name                   0\n",
            "Japanese_name      10557\n",
            "Type                   0\n",
            "Episodes               0\n",
            "Studio              6477\n",
            "Release_season     14379\n",
            "Tags                 400\n",
            "Rating              3131\n",
            "Release_year         383\n",
            "End_year           15641\n",
            "Description            4\n",
            "Content_Warning    16655\n",
            "Related_Mange      10868\n",
            "Related_anime       8432\n",
            "Voice_actors        3186\n",
            "staff                  0\n",
            "dtype: int64\n"
          ]
        }
      ],
      "source": [
        "# Check missing values after cleaning\n",
        "print(f\"\\nMissing values after cleaning: {Anime_clean.isnull().sum()}\")"
      ]
    },
    {
      "cell_type": "markdown",
      "metadata": {
        "id": "dRi4wyskeTRA"
      },
      "source": [
        "# =====================================================\n",
        "# 6. DATA FILTERING AND QUERYING\n",
        "# =====================================================\n"
      ]
    },
    {
      "cell_type": "code",
      "execution_count": 60,
      "metadata": {
        "colab": {
          "base_uri": "https://localhost:8080/"
        },
        "id": "IjQpdZrZeyaF",
        "outputId": "2bf5c22f-434f-4c2d-a32c-62044cb447cc"
      },
      "outputs": [
        {
          "name": "stdout",
          "output_type": "stream",
          "text": [
            "6. DATA FILTERING AND QUERYING\n",
            "\n",
            "6.1 Basic Filtering:\n",
            "Number of Ranking (Ranking >= 500): 0\n"
          ]
        }
      ],
      "source": [
        "print(\"6. DATA FILTERING AND QUERYING\")\n",
        "\n",
        "print(\"\\n6.1 Basic Filtering:\")\n",
        "\n",
        "# Single condition\n",
        "Rating = Anime_clean[Anime_clean['Rating'] >= 10]\n",
        "print(f\"Number of Ranking (Ranking >= 500): {len(Rating)}\")"
      ]
    },
    {
      "cell_type": "code",
      "execution_count": 61,
      "metadata": {
        "colab": {
          "base_uri": "https://localhost:8080/"
        },
        "id": "Ax8sh5v7e7eJ",
        "outputId": "9eefc692-dc0d-461c-d853-32002bcf1b22"
      },
      "outputs": [
        {
          "name": "stdout",
          "output_type": "stream",
          "text": [
            "First 3 Animes:\n",
            "   Rating                                               Name  \\\n",
            "0    4.60  Demon Slayer: Kimetsu no Yaiba - Entertainment...   \n",
            "1    4.60                     Fruits Basket the Final Season   \n",
            "2    4.58                                    Mo Dao Zu Shi 3   \n",
            "\n",
            "                                               staff  \n",
            "0  Koyoharu Gotouge : Original Creator, Haruo Sot...  \n",
            "1  Natsuki Takaya : Original Creator, Yoshihide I...  \n",
            "2  Mo Xiang Tong Xiu : Original Creator, Xiong Ke...  \n"
          ]
        }
      ],
      "source": [
        "# Display first \n",
        "print(\"First 3 Animes:\")\n",
        "print(Anime[['Rating', 'Name', 'staff']].head(3))\n"
      ]
    },
    {
      "cell_type": "code",
      "execution_count": 65,
      "metadata": {
        "colab": {
          "base_uri": "https://localhost:8080/"
        },
        "id": "4PvrtEH0flVu",
        "outputId": "2e19d57b-4716-4577-8343-31eeb6c59294"
      },
      "outputs": [
        {
          "name": "stdout",
          "output_type": "stream",
          "text": [
            "\n",
            "6.2 Using isin() Method:\n",
            "------------------------------\n",
            "Fall and spring season: 18495\n"
          ]
        }
      ],
      "source": [
        "print(\"\\n6.2 Using isin() Method:\")\n",
        "print(\"-\" * 30)\n",
        "\n",
        "# Filter using isin()\n",
        "Season = Anime[Anime['Release_season'].isin(['Fall', 'Spring'])]\n",
        "print(f\"Fall and spring season: {len(Anime)}\")"
      ]
    },
    {
      "cell_type": "code",
      "execution_count": 67,
      "metadata": {
        "colab": {
          "base_uri": "https://localhost:8080/"
        },
        "id": "rYBvW_7Y2DNx",
        "outputId": "6264790b-1520-4139-e0fe-7f9b1a0efa2f"
      },
      "outputs": [
        {
          "name": "stdout",
          "output_type": "stream",
          "text": [
            "\n",
            "============================================================\n",
            "7. DATA AGGREGATION AND GROUPING\n",
            "============================================================\n",
            "\n",
            "7.1 Basic Aggregations:\n",
            "------------------------------\n",
            "Average Episodes: 16.58\n",
            "Maximum Episodes: 800.00\n"
          ]
        }
      ],
      "source": [
        "# =============================================================================\n",
        "# 7. DATA AGGREGATION AND GROUPING\n",
        "# =============================================================================\n",
        "\n",
        "print(\"\\n\" + \"=\"*60)\n",
        "print(\"7. DATA AGGREGATION AND GROUPING\")\n",
        "print(\"=\"*60)\n",
        "\n",
        "print(\"\\n7.1 Basic Aggregations:\")\n",
        "print(\"-\" * 30)\n",
        "\n",
        "# Basic statistics\n",
        "if 'Age' in Anime_clean.columns:\n",
        "    print(f\"Mean Rating: {Anime_clean['Rating'].mean():.1f}\")\n",
        "    print(f\"Median Rating: {Anime_clean['Rating'].median():.1f}\")\n",
        "    print(f\"Standard deviation of Rating: {Anime_clean['Rating'].std():.1f}\")\n",
        "\n",
        "if 'Episodes' in Anime_clean.columns:\n",
        "    print(f\"Average Episodes: {Anime_clean['Episodes'].mean():.2f}\")\n",
        "    print(f\"Maximum Episodes: {Anime_clean['Episodes'].max():.2f}\")"
      ]
    },
    {
      "cell_type": "code",
      "execution_count": 71,
      "metadata": {
        "colab": {
          "base_uri": "https://localhost:8080/"
        },
        "id": "cbGC7tos2zlD",
        "outputId": "b5664b34-e169-4eeb-c509-3910378bc2f9"
      },
      "outputs": [
        {
          "name": "stdout",
          "output_type": "stream",
          "text": [
            "\n",
            "7.4 Multiple Aggregation Functions:\n",
            "------------------------------\n",
            "Episode statistics by Year:\n",
            "                   mean  median        std  count\n",
            "Release_year                                     \n",
            "1907.0        12.000000    12.0        NaN      1\n",
            "1917.0        12.000000    12.0   0.000000     13\n",
            "1918.0        12.000000    12.0   0.000000      6\n",
            "1924.0        12.000000    12.0   0.000000      2\n",
            "1925.0        12.000000    12.0   0.000000      4\n",
            "...                 ...     ...        ...    ...\n",
            "2019.0        14.572536    12.0  12.745548    903\n",
            "2020.0        14.346893    12.0  13.169814    885\n",
            "2021.0        13.245509    12.0  10.495898    835\n",
            "2022.0        11.863071    12.0   1.222159    241\n",
            "2023.0        12.000000    12.0   0.000000      4\n",
            "\n",
            "[103 rows x 4 columns]\n"
          ]
        }
      ],
      "source": [
        "# Multiple aggregations\n",
        "print(\"\\n7.4 Multiple Aggregation Functions:\")\n",
        "print(\"-\" * 30)\n",
        "\n",
        "if 'Episodes' in Anime_clean.columns and 'Release_year' in Anime_clean.columns:\n",
        "    Episodes_stats = Anime_clean.groupby('Release_year')['Episodes'].agg(['mean', 'median', 'std', 'count'])\n",
        "    print(\"Episode statistics by Year:\")\n",
        "    print(Episodes_stats)"
      ]
    },
    {
      "cell_type": "code",
      "execution_count": 37,
      "metadata": {
        "colab": {
          "base_uri": "https://localhost:8080/"
        },
        "id": "M6nhrHIL21Ne",
        "outputId": "813ad04b-925d-4835-ab31-be81f9d86557"
      },
      "outputs": [
        {
          "name": "stdout",
          "output_type": "stream",
          "text": [
            "\n",
            "============================================================\n",
            "8. DATA MERGING AND JOINING\n",
            "============================================================\n",
            "\n",
            "8.1 Creating Sample Data for Merging:\n",
            "------------------------------\n",
            "Passenger Details:\n",
            "   passenger_id           name  ticket_class\n",
            "0             1  Alice Johnson             1\n",
            "1             2      Bob Smith             2\n",
            "2             3  Charlie Brown             3\n",
            "3             4   Diana Prince             1\n",
            "4             5     Eve Wilson             2\n",
            "\n",
            "Ticket Information:\n",
            "   passenger_id ticket_number  fare_paid\n",
            "0             1          A123        100\n",
            "1             2          B456         75\n",
            "2             3          C789         50\n",
            "3             6          D012        120\n",
            "4             7          E345         80\n"
          ]
        }
      ],
      "source": [
        "# =============================================================================\n",
        "# 8. DATA MERGING AND JOINING\n",
        "# =============================================================================\n",
        "\n",
        "print(\"\\n\" + \"=\"*60)\n",
        "print(\"8. DATA MERGING AND JOINING\")\n",
        "print(\"=\"*60)\n",
        "\n",
        "# Create sample datasets for merging\n",
        "print(\"\\n8.1 Creating Sample Data for Merging:\")\n",
        "print(\"-\" * 30)\n",
        "\n",
        "# Passenger details\n",
        "passenger_details = pd.DataFrame({\n",
        "    'passenger_id': [1, 2, 3, 4, 5],\n",
        "    'name': ['Alice Johnson', 'Bob Smith', 'Charlie Brown', 'Diana Prince', 'Eve Wilson'],\n",
        "    'ticket_class': [1, 2, 3, 1, 2]\n",
        "})\n",
        "\n",
        "# Ticket information\n",
        "ticket_info = pd.DataFrame({\n",
        "    'passenger_id': [1, 2, 3, 6, 7],\n",
        "    'ticket_number': ['A123', 'B456', 'C789', 'D012', 'E345'],\n",
        "    'fare_paid': [100, 75, 50, 120, 80]\n",
        "})\n",
        "\n",
        "print(\"Passenger Details:\")\n",
        "print(passenger_details)\n",
        "print(\"\\nTicket Information:\")\n",
        "print(ticket_info)"
      ]
    },
    {
      "cell_type": "code",
      "execution_count": 38,
      "metadata": {
        "colab": {
          "base_uri": "https://localhost:8080/"
        },
        "id": "KJTbeJP621Ri",
        "outputId": "647c370c-18ba-4bed-b991-0ba9d620d86c"
      },
      "outputs": [
        {
          "name": "stdout",
          "output_type": "stream",
          "text": [
            "\n",
            "8.2 Different Types of Merges:\n",
            "------------------------------\n",
            "Inner Join (only matching records):\n",
            "   passenger_id           name  ticket_class ticket_number  fare_paid\n",
            "0             1  Alice Johnson             1          A123        100\n",
            "1             2      Bob Smith             2          B456         75\n",
            "2             3  Charlie Brown             3          C789         50\n",
            "\n",
            "Left Join (all records from left table):\n",
            "   passenger_id           name  ticket_class ticket_number  fare_paid\n",
            "0             1  Alice Johnson             1          A123      100.0\n",
            "1             2      Bob Smith             2          B456       75.0\n",
            "2             3  Charlie Brown             3          C789       50.0\n",
            "3             4   Diana Prince             1           NaN        NaN\n",
            "4             5     Eve Wilson             2           NaN        NaN\n",
            "\n",
            "Right Join (all records from right table):\n",
            "   passenger_id           name  ticket_class ticket_number  fare_paid\n",
            "0             1  Alice Johnson           1.0          A123        100\n",
            "1             2      Bob Smith           2.0          B456         75\n",
            "2             3  Charlie Brown           3.0          C789         50\n",
            "3             6            NaN           NaN          D012        120\n",
            "4             7            NaN           NaN          E345         80\n",
            "\n",
            "Outer Join (all records from both tables):\n",
            "   passenger_id           name  ticket_class ticket_number  fare_paid\n",
            "0             1  Alice Johnson           1.0          A123      100.0\n",
            "1             2      Bob Smith           2.0          B456       75.0\n",
            "2             3  Charlie Brown           3.0          C789       50.0\n",
            "3             4   Diana Prince           1.0           NaN        NaN\n",
            "4             5     Eve Wilson           2.0           NaN        NaN\n",
            "5             6            NaN           NaN          D012      120.0\n",
            "6             7            NaN           NaN          E345       80.0\n"
          ]
        }
      ],
      "source": [
        "print(\"\\n8.2 Different Types of Merges:\")\n",
        "print(\"-\" * 30)\n",
        "\n",
        "# Inner join (default)\n",
        "inner_merge = pd.merge(passenger_details, ticket_info, on='passenger_id')\n",
        "print(\"Inner Join (only matching records):\")\n",
        "print(inner_merge)\n",
        "\n",
        "# Left join\n",
        "left_merge = pd.merge(passenger_details, ticket_info, on='passenger_id', how='left')\n",
        "print(\"\\nLeft Join (all records from left table):\")\n",
        "print(left_merge)\n",
        "\n",
        "# Right join\n",
        "right_merge = pd.merge(passenger_details, ticket_info, on='passenger_id', how='right')\n",
        "print(\"\\nRight Join (all records from right table):\")\n",
        "print(right_merge)\n",
        "\n",
        "# Outer join\n",
        "outer_merge = pd.merge(passenger_details, ticket_info, on='passenger_id', how='outer')\n",
        "print(\"\\nOuter Join (all records from both tables):\")\n",
        "print(outer_merge)"
      ]
    },
    {
      "cell_type": "code",
      "execution_count": 39,
      "metadata": {
        "colab": {
          "base_uri": "https://localhost:8080/"
        },
        "id": "WiBZCMe-21UP",
        "outputId": "8f2f57d7-86ef-4039-c7a0-e4c8e07dd338"
      },
      "outputs": [
        {
          "name": "stdout",
          "output_type": "stream",
          "text": [
            "\n",
            "8.3 Merge with Different Column Names:\n",
            "------------------------------\n",
            "Merge with different column names:\n",
            "   id passenger_name  passenger_id booking_date\n",
            "0   1          Alice             1   2024-01-01\n",
            "1   2            Bob             2   2024-01-02\n"
          ]
        }
      ],
      "source": [
        "print(\"\\n8.3 Merge with Different Column Names:\")\n",
        "print(\"-\" * 30)\n",
        "\n",
        "# Create data with different column names\n",
        "passenger_info = pd.DataFrame({\n",
        "    'id': [1, 2, 3],\n",
        "    'passenger_name': ['Alice', 'Bob', 'Charlie']\n",
        "})\n",
        "\n",
        "booking_info = pd.DataFrame({\n",
        "    'passenger_id': [1, 2, 4],\n",
        "    'booking_date': ['2024-01-01', '2024-01-02', '2024-01-03']\n",
        "})\n",
        "\n",
        "# Merge with different column names\n",
        "merge_diff_names = pd.merge(passenger_info, booking_info,\n",
        "                          left_on='id', right_on='passenger_id', how='inner')\n",
        "print(\"Merge with different column names:\")\n",
        "print(merge_diff_names)"
      ]
    },
    {
      "cell_type": "code",
      "execution_count": 40,
      "metadata": {
        "colab": {
          "base_uri": "https://localhost:8080/"
        },
        "id": "X29URpJM21W6",
        "outputId": "6e7ae99a-829b-4f7f-af45-af17205bddc9"
      },
      "outputs": [
        {
          "name": "stdout",
          "output_type": "stream",
          "text": [
            "\n",
            "8.4 Concatenation:\n",
            "------------------------------\n",
            "Vertical concatenation:\n",
            "   A  B\n",
            "0  1  3\n",
            "1  2  4\n",
            "2  5  7\n",
            "3  6  8\n",
            "\n",
            "Horizontal concatenation:\n",
            "   A  B  A  B\n",
            "0  1  3  5  7\n",
            "1  2  4  6  8\n"
          ]
        }
      ],
      "source": [
        "print(\"\\n8.4 Concatenation:\")\n",
        "print(\"-\" * 30)\n",
        "\n",
        "# Concatenate DataFrames vertically\n",
        "df1 = pd.DataFrame({'A': [1, 2], 'B': [3, 4]})\n",
        "df2 = pd.DataFrame({'A': [5, 6], 'B': [7, 8]})\n",
        "\n",
        "concat_vertical = pd.concat([df1, df2], ignore_index=True)\n",
        "print(\"Vertical concatenation:\")\n",
        "print(concat_vertical)\n",
        "\n",
        "# Concatenate horizontally\n",
        "concat_horizontal = pd.concat([df1, df2], axis=1)\n",
        "print(\"\\nHorizontal concatenation:\")\n",
        "print(concat_horizontal)"
      ]
    },
    {
      "cell_type": "code",
      "execution_count": 73,
      "metadata": {
        "colab": {
          "base_uri": "https://localhost:8080/"
        },
        "id": "oG-bNiUpLwgz",
        "outputId": "869062b2-f091-4cca-8f97-9b8c01b3553c"
      },
      "outputs": [
        {
          "name": "stdout",
          "output_type": "stream",
          "text": [
            "\n",
            "============================================================\n",
            "9. PIVOT TABLES AND RESHAPING\n",
            "============================================================\n",
            "\n",
            "9.1 Pivot Tables:\n",
            "------------------------------\n"
          ]
        }
      ],
      "source": [
        "# =============================================================================\n",
        "# 9. PIVOT TABLES AND RESHAPING\n",
        "# =============================================================================\n",
        "\n",
        "print(\"\\n\" + \"=\"*60)\n",
        "print(\"9. PIVOT TABLES AND RESHAPING\")\n",
        "print(\"=\"*60)\n",
        "\n",
        "print(\"\\n9.1 Pivot Tables:\")\n",
        "print(\"-\" * 30)\n",
        "\n",
        "# Create a pivot table: average Rating by Type and Release_season\n",
        "if 'Type' in Anime_drop_cols.columns and 'Release_season' in Anime_drop_cols.columns and 'Rating' in Anime_drop_cols.columns:\n",
        "    pivot_rating = pd.pivot_table(\n",
        "        Anime_drop_cols,\n",
        "        values='Rating',\n",
        "        index='Type',\n",
        "        columns='Release_season',\n",
        "        aggfunc='mean',\n",
        "        fill_value=0\n",
        "    )\n",
        "    print(\"Average Rating by Type and Release Season (Pivot Table):\")\n",
        "    print(pivot_rating)\n"
      ]
    },
    {
      "cell_type": "code",
      "execution_count": 74,
      "metadata": {
        "colab": {
          "base_uri": "https://localhost:8080/"
        },
        "id": "ALUmoyHw3Gpy",
        "outputId": "ce9c2fac-87e9-476b-e4ce-7716de43d994"
      },
      "outputs": [],
      "source": [
        "# Pivot table with multiple values using Anime_drop_cols\n",
        "if 'Type' in Anime_drop_cols.columns and 'Episodes' in Anime_drop_cols.columns and 'Rating' in Anime_drop_cols.columns:\n",
        "    pivot_multiple = pd.pivot_table(\n",
        "        Anime_drop_cols,\n",
        "        values=['Episodes', 'Rating'],\n",
        "        index='Type',\n",
        "        aggfunc='mean',\n",
        "        fill_value=0\n",
        "    )\n",
        "    print(\"\\nAverage Episodes and Rating by Anime Type:\")\n",
        "    print(pivot_multiple)\n"
      ]
    },
    {
      "cell_type": "code",
      "execution_count": 75,
      "metadata": {
        "colab": {
          "base_uri": "https://localhost:8080/"
        },
        "id": "W_6oiE5C3Gye",
        "outputId": "c5eda9e3-0796-47ec-bfe6-b76e81c08a5e"
      },
      "outputs": [
        {
          "name": "stdout",
          "output_type": "stream",
          "text": [
            "\n",
            "============================================================\n",
            "10. ADVANCED OPERATIONS\n",
            "============================================================\n",
            "\n",
            "10.1 Index Operations:\n",
            "------------------------------\n",
            "Shape after setting 'Name' as index: (18495, 4)\n",
            "First few rows with 'Name' as index:\n",
            "                                                    Rank   Type  Episodes  \\\n",
            "Name                                                                        \n",
            "Demon Slayer: Kimetsu no Yaiba - Entertainment ...     1  TV         12.0   \n",
            "Fruits Basket the Final Season                         2  TV         13.0   \n",
            "Mo Dao Zu Shi 3                                        3  Web        12.0   \n",
            "\n",
            "                                                                                                staff  \n",
            "Name                                                                                                   \n",
            "Demon Slayer: Kimetsu no Yaiba - Entertainment ...  Koyoharu Gotouge : Original Creator, Haruo Sot...  \n",
            "Fruits Basket the Final Season                      Natsuki Takaya : Original Creator, Yoshihide I...  \n",
            "Mo Dao Zu Shi 3                                     Mo Xiang Tong Xiu : Original Creator, Xiong Ke...  \n",
            "\n",
            "Shape after resetting index: (18495, 5)\n"
          ]
        }
      ],
      "source": [
        "# =============================================================================\n",
        "# 10. ADVANCED OPERATIONS\n",
        "# =============================================================================\n",
        "\n",
        "print(\"\\n\" + \"=\"*60)\n",
        "print(\"10. ADVANCED OPERATIONS\")\n",
        "print(\"=\"*60)\n",
        "\n",
        "print(\"\\n10.1 Index Operations:\")\n",
        "print(\"-\" * 30)\n",
        "\n",
        "# Set index using Anime_drop_cols DataFrame\n",
        "if 'Name' in Anime_drop_cols.columns:\n",
        "    df_with_index = Anime_drop_cols.copy()\n",
        "    df_with_index = df_with_index.set_index('Name')\n",
        "    print(f\"Shape after setting 'Name' as index: {df_with_index.shape}\")\n",
        "    print(\"First few rows with 'Name' as index:\")\n",
        "    print(df_with_index.head(3))\n",
        "\n",
        "    # Reset index\n",
        "    df_reset = df_with_index.reset_index()\n",
        "    print(f\"\\nShape after resetting index: {df_reset.shape}\")"
      ]
    },
    {
      "cell_type": "code",
      "execution_count": 77,
      "metadata": {
        "colab": {
          "base_uri": "https://localhost:8080/"
        },
        "id": "MbfU6IBB3G2p",
        "outputId": "57fc506f-1b2a-41ca-f29e-caadf030ab4c"
      },
      "outputs": [
        {
          "name": "stdout",
          "output_type": "stream",
          "text": [
            "\n",
            "10.2 Apply Lambda Functions:\n",
            "------------------------------\n",
            "Episodes group distribution:\n",
            "Episodes_group\n",
            "Medium    20\n",
            "Long      18\n",
            "Short      2\n",
            "Name: count, dtype: int64\n",
            "\n",
            "Type category distribution:\n",
            "type_category\n",
            "Other    40\n",
            "Name: count, dtype: int64\n"
          ]
        }
      ],
      "source": [
        "print(\"\\n10.2 Apply Lambda Functions:\")\n",
        "print(\"-\" * 30)\n",
        "\n",
        "# Apply function to create new columns\n",
        "if 'Episodes' in Anime_no_na.columns:\n",
        "    def episode_group(x):\n",
        "        if x < 13:\n",
        "            return 'Short'\n",
        "        elif x < 26:\n",
        "            return 'Medium'\n",
        "        else:\n",
        "            return 'Long'\n",
        "    Anime_no_na.loc[:, 'Episodes_group'] = Anime_no_na['Episodes'].apply(episode_group)\n",
        "    print(\"Episodes group distribution:\")\n",
        "    print(Anime_no_na['Episodes_group'].value_counts())\n",
        "\n",
        "# Apply function to multiple columns\n",
        "def categorize_type(row):\n",
        "    if row['Type'] == 'TV':\n",
        "        return 'Television'\n",
        "    elif row['Type'] == 'Movie':\n",
        "        return 'Movie'\n",
        "    else:\n",
        "        return 'Other'\n",
        "\n",
        "Anime_no_na.loc[:, 'type_category'] = Anime_no_na.apply(categorize_type, axis=1)\n",
        "print(\"\\nType category distribution:\")\n",
        "print(Anime_no_na['type_category'].value_counts())"
      ]
    },
    {
      "cell_type": "code",
      "execution_count": 45,
      "metadata": {
        "colab": {
          "base_uri": "https://localhost:8080/"
        },
        "id": "ea-XDBX14Bzs",
        "outputId": "ae787ad6-a5d7-4d38-dd10-4d72f9c73a3a"
      },
      "outputs": [
        {
          "name": "stdout",
          "output_type": "stream",
          "text": [
            "\n",
            "10.3 Working with Dates:\n",
            "------------------------------\n",
            "Sample date data:\n",
            "        date     value\n",
            "0 2024-01-01 -1.180671\n",
            "1 2024-01-02 -0.130740\n",
            "2 2024-01-03  0.998933\n",
            "3 2024-01-04  1.437842\n",
            "4 2024-01-05  1.034724\n",
            "\n",
            "Date with extracted components:\n",
            "        date  year  month  dayofweek weekday_name\n",
            "0 2024-01-01  2024      1          0       Monday\n",
            "1 2024-01-02  2024      1          1      Tuesday\n",
            "2 2024-01-03  2024      1          2    Wednesday\n",
            "3 2024-01-04  2024      1          3     Thursday\n",
            "4 2024-01-05  2024      1          4       Friday\n"
          ]
        }
      ],
      "source": [
        "print(\"\\n10.3 Working with Dates:\")\n",
        "print(\"-\" * 30)\n",
        "\n",
        "# Create sample date data\n",
        "date_range = pd.date_range(start='2024-01-01', end='2024-01-10', freq='D')\n",
        "date_df = pd.DataFrame({\n",
        "    'date': date_range,\n",
        "    'value': np.random.randn(len(date_range))\n",
        "})\n",
        "\n",
        "print(\"Sample date data:\")\n",
        "print(date_df.head())\n",
        "\n",
        "# Extract date components\n",
        "date_df['year'] = date_df['date'].dt.year\n",
        "date_df['month'] = date_df['date'].dt.month\n",
        "date_df['dayofweek'] = date_df['date'].dt.dayofweek\n",
        "date_df['weekday_name'] = date_df['date'].dt.day_name()\n",
        "\n",
        "print(\"\\nDate with extracted components:\")\n",
        "print(date_df[['date', 'year', 'month', 'dayofweek', 'weekday_name']].head())"
      ]
    },
    {
      "cell_type": "code",
      "execution_count": 78,
      "metadata": {
        "colab": {
          "base_uri": "https://localhost:8080/"
        },
        "id": "D5xXzZAA4F1g",
        "outputId": "f034ee67-160b-4dee-d250-9dd06a977fb1"
      },
      "outputs": [
        {
          "name": "stdout",
          "output_type": "stream",
          "text": [
            "\n",
            "10.4 Data Validation and Quality Checks:\n",
            "------------------------------\n",
            "Number of duplicate rows: 0\n",
            "Invalid episodes (< 0 or > 1000): 0\n",
            "\n",
            "Dataset memory usage: 121.45 KB\n"
          ]
        }
      ],
      "source": [
        "print(\"\\n10.4 Data Validation and Quality Checks:\")\n",
        "print(\"-\" * 30)\n",
        "\n",
        "# Check for duplicates\n",
        "duplicates = Anime_no_na.duplicated().sum()\n",
        "print(f\"Number of duplicate rows: {duplicates}\")\n",
        "\n",
        "# Check data ranges\n",
        "if 'Episodes' in Anime_no_na.columns:\n",
        "    invalid_episodes = Anime_no_na[(Anime_no_na['Episodes'] < 0) | (Anime_no_na['Episodes'] > 1000)]\n",
        "    print(f\"Invalid episodes (< 0 or > 1000): {len(invalid_episodes)}\")\n",
        "\n",
        "# Memory usage\n",
        "print(f\"\\nDataset memory usage: {Anime_no_na.memory_usage(deep=True).sum() / 1024:.2f} KB\")"
      ]
    },
    {
      "cell_type": "code",
      "execution_count": 80,
      "metadata": {
        "colab": {
          "base_uri": "https://localhost:8080/"
        },
        "id": "TJGwrB5YTYMG",
        "outputId": "eba938de-21a8-4ba2-9e7d-7e00274666a1"
      },
      "outputs": [
        {
          "name": "stdout",
          "output_type": "stream",
          "text": [
            "\n",
            "============================================================\n",
            "SUMMARY AND BEST PRACTICES\n",
            "============================================================\n",
            "\n",
            "Key Pandas Concepts Covered:\n",
            "1. Series and DataFrame creation and manipulation\n",
            "2. Data loading and exploration\n",
            "3. Data selection and indexing (iloc, loc)\n",
            "4. Missing value handling (dropna, fillna)\n",
            "5. Data filtering and querying (isin, query)\n",
            "6. Aggregation and grouping operations\n",
            "7. Data merging and joining\n",
            "8. Pivot tables and data reshaping\n",
            "9. Advanced operations (apply, dates)\n",
            "\n",
            "Next Steps:\n",
            "- Practice with different datasets\n",
            "\n",
            "\n",
            "Final cleaned dataset shape: (18495, 17)\n",
            "Columns: ['Rank', 'Name', 'Japanese_name', 'Type', 'Episodes', 'Studio', 'Release_season', 'Tags', 'Rating', 'Release_year', 'End_year', 'Description', 'Content_Warning', 'Related_Mange', 'Related_anime', 'Voice_actors', 'staff']\n",
            "\n",
            "Data cleaning complete! Dataset ready for analysis.\n"
          ]
        }
      ],
      "source": [
        "print(\"\\n\" + \"=\"*60)\n",
        "print(\"SUMMARY AND BEST PRACTICES\")\n",
        "print(\"=\"*60)\n",
        "\n",
        "print(\"\"\"\n",
        "Key Pandas Concepts Covered:\n",
        "1. Series and DataFrame creation and manipulation\n",
        "2. Data loading and exploration\n",
        "3. Data selection and indexing (iloc, loc)\n",
        "4. Missing value handling (dropna, fillna)\n",
        "5. Data filtering and querying (isin, query)\n",
        "6. Aggregation and grouping operations\n",
        "7. Data merging and joining\n",
        "8. Pivot tables and data reshaping\n",
        "9. Advanced operations (apply, dates)\n",
        "\n",
        "Next Steps:\n",
        "- Practice with different datasets\n",
        "\"\"\")\n",
        "\n",
        "# Final dataset summary\n",
        "print(f\"\\nFinal cleaned dataset shape: {Anime_clean.shape}\")\n",
        "print(f\"Columns: {Anime_clean.columns.tolist()}\")\n",
        "print(\"\\nData cleaning complete! Dataset ready for analysis.\")"
      ]
    }
  ],
  "metadata": {
    "colab": {
      "provenance": []
    },
    "kernelspec": {
      "display_name": "Python 3",
      "language": "python",
      "name": "python3"
    },
    "language_info": {
      "codemirror_mode": {
        "name": "ipython",
        "version": 3
      },
      "file_extension": ".py",
      "mimetype": "text/x-python",
      "name": "python",
      "nbconvert_exporter": "python",
      "pygments_lexer": "ipython3",
      "version": "3.12.8"
    }
  },
  "nbformat": 4,
  "nbformat_minor": 0
}
